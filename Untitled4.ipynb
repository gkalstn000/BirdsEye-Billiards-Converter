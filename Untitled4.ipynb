{
 "cells": [
  {
   "cell_type": "code",
   "execution_count": 2,
   "metadata": {},
   "outputs": [
    {
     "name": "stdout",
     "output_type": "stream",
     "text": [
      "/Users/gkalstn/capstone\n"
     ]
    }
   ],
   "source": [
    "%cd capstone/"
   ]
  },
  {
   "cell_type": "code",
   "execution_count": 131,
   "metadata": {},
   "outputs": [],
   "source": [
    "import cv2\n",
    "import numpy as np\n",
    "import numpy.linalg as lin"
   ]
  },
  {
   "cell_type": "code",
   "execution_count": 132,
   "metadata": {},
   "outputs": [],
   "source": [
    "\n",
    "def getcos(combination_list) :\n",
    "    v1 = combination_list[1] - combination_list[0]\n",
    "    v2 = combination_list[2] - combination_list[0]\n",
    "    cos = np.dot(v1, v2) / (np.linalg.norm(v1, ord=2)*np.linalg.norm(v2, ord=2))\n",
    "    \n",
    "    return abs(cos)\n",
    "\n",
    "def test_line_num(point_lists) :\n",
    "    for i in range(len(point_lists)-3) :\n",
    "        if getcos(np.array(point_lists[i:i+3])) < 0.999 :\n",
    "            print('detected 2 lines')\n",
    "            return i\n",
    "            \n",
    "    \n",
    "    print('detected 1 lines')\n",
    "    return 0\n",
    "\n",
    "\n",
    "def equation(point_list1, point_list2) :\n",
    "    x11 = point_list1[0][0]\n",
    "    y11 = point_list1[0][1]\n",
    "    x12 = point_list1[1][0]\n",
    "    y12 = point_list1[1][1]\n",
    "    \n",
    "    x21 = point_list2[0][0]\n",
    "    y21 = point_list2[0][1]\n",
    "    x22 = point_list2[1][0]\n",
    "    y22 = point_list2[1][1]\n",
    "    \n",
    "    A = np.array([[y12-y11, -x12+x11],\n",
    "                  [y22-y21, -x22+x21]])    \n",
    "    inv_A = lin.inv(A)\n",
    "    X = np.array([x11*y12-x12*y11, x21*y22-x22*y21])\n",
    "    \n",
    "    result = np.dot(inv_A, X.T)\n",
    "    \n",
    "    return result\n",
    "\n",
    "\n",
    "import matplotlib.pyplot as plt\n",
    "\n",
    "def graph_(lists) :\n",
    "    x = []\n",
    "    y = []\n",
    "    for i in lists :\n",
    "        x.append(i[1])\n",
    "        y.append(i[0])\n",
    "    plt.plot(x,  # x\n",
    "             y,  # y \n",
    "             linestyle='none', \n",
    "             marker='o', \n",
    "             markersize=10,\n",
    "             color='blue', \n",
    "             alpha=0.5)\n",
    "    plt.show()"
   ]
  },
  {
   "cell_type": "code",
   "execution_count": 133,
   "metadata": {},
   "outputs": [],
   "source": [
    "img_path = '/Users/gkalstn/capstone/object_detection/special_res/1.jpg'\n",
    "#img_path = '/Users/gkalstn/capstone/imgs/before_results.png'\n",
    "\n",
    "image_np = cv2.imread(img_path)"
   ]
  },
  {
   "cell_type": "code",
   "execution_count": 134,
   "metadata": {},
   "outputs": [],
   "source": [
    "h, w = image_np[:,:,0].shape\n",
    "    \n",
    "if (h > 1000) or (w > 1000) :\n",
    "    h, w = int(h/3), int(w/3)\n",
    "    image_np = cv2.resize(image_np, dsize=(w, h), interpolation=cv2.INTER_AREA)\n",
    "\n",
    "no_background = np.zeros((h, w))\n",
    "\n",
    "for i in range(h) :\n",
    "    for j in range(w) :\n",
    "        if (image_np[i,j,0] > image_np[i,j,1]) and (image_np[i,j,1] > image_np[i,j,2] and (image_np[i,j,0]>190)) and (image_np[i,j,1]<170):\n",
    "            no_background[i, j] = image_np[i, j, 0]\n",
    "\n",
    "        \n",
    "   \n",
    "\n",
    "for i in range(h) :\n",
    "    for j in range(w) :\n",
    "        if no_background[i, j] != 0 :\n",
    "            no_background[i, j] = 200\n",
    "\n",
    "\n",
    "\n",
    "w_list = np.linspace(0, w-1, 17)\n",
    "h_list = np.linspace(0, h-1, 17)\n",
    "\n",
    "\n",
    "bot = []\n",
    "top = []"
   ]
  },
  {
   "cell_type": "code",
   "execution_count": 135,
   "metadata": {},
   "outputs": [],
   "source": [
    "for i in w_list :\n",
    "    i = int(i)\n",
    "    lists = no_background[:, i].tolist()\n",
    "    \n",
    "    if(not (200 in lists)) :\n",
    "        continue\n",
    "    \n",
    "    for j in range(h) :\n",
    "        if no_background[h-1-j, i] == 200 :\n",
    "            bot.append([h-1-j, i])\n",
    "            break\n",
    "\n",
    "    for j in range(h) :\n",
    "        if no_background[j, i] == 200 :\n",
    "            top.append([j, i])\n",
    "            break"
   ]
  },
  {
   "cell_type": "code",
   "execution_count": 136,
   "metadata": {},
   "outputs": [
    {
     "name": "stdout",
     "output_type": "stream",
     "text": [
      "detected 2 lines\n",
      "detected 2 lines\n"
     ]
    }
   ],
   "source": [
    "s1 = []\n",
    "s2 = []\n",
    "s3 = []\n",
    "s4 = []\n",
    "\n",
    "piv1 = test_line_num(bot)\n",
    "piv2 = test_line_num(top)\n",
    "\n",
    "if piv1 == 0 :\n",
    "    s1 = bot\n",
    "    if top[0] < top[-1] :\n",
    "        s3 += top[:piv2]\n",
    "        s2 += top[piv2+4:]\n",
    "    else :\n",
    "        s2 += top[:piv2]\n",
    "        s3 += top[piv2+4:]\n",
    "        \n",
    "    for i in h_list :\n",
    "        i = int(i)\n",
    "        lists = no_background[:, i].tolist()\n",
    "    \n",
    "        if(not (200 in lists)) :\n",
    "            continue\n",
    "    \n",
    "        for j in range(w) :\n",
    "            if no_background[i, w-j-1] == 200 :\n",
    "                s4.append([i, w-j-1])\n",
    "                break\n",
    "        \n",
    "        \n",
    "    \n",
    "else :\n",
    "    s1 += bot[:piv1]\n",
    "    s2 += bot[piv1+4:]\n",
    "    s4 += top[:piv2]\n",
    "    s3 += top[piv2+4:]\n",
    "    \n",
    "    \n",
    "\n",
    "p1 = equation(s1, s2)\n",
    "p2 = equation(s2, s3)\n",
    "p3 = equation(s3, s4)\n",
    "p4 = equation(s4, s1)\n",
    "\n",
    "\n",
    "point_list = [p1, p2, p3, p4]"
   ]
  },
  {
   "cell_type": "code",
   "execution_count": 137,
   "metadata": {},
   "outputs": [
    {
     "data": {
      "text/plain": [
       "[array([258.14516129, 204.33870968]),\n",
       " array([157.56, 662.56]),\n",
       " array([  7.44444444, 277.88888889]),\n",
       " array([20.01818182, 20.12727273])]"
      ]
     },
     "execution_count": 137,
     "metadata": {},
     "output_type": "execute_result"
    }
   ],
   "source": [
    "point_list"
   ]
  },
  {
   "cell_type": "code",
   "execution_count": 138,
   "metadata": {},
   "outputs": [
    {
     "data": {
      "image/png": "[encoded data removed]",
      "text/plain": [
       "<Figure size 432x288 with 1 Axes>"
      ]
     },
     "metadata": {
      "needs_background": "light"
     },
     "output_type": "display_data"
    }
   ],
   "source": [
    "graph_(point_list)"
   ]
  },
  {
   "cell_type": "code",
   "execution_count": null,
   "metadata": {},
   "outputs": [],
   "source": []
  }
 ],
 "metadata": {
  "kernelspec": {
   "display_name": "Python 3",
   "language": "python",
   "name": "python3"
  },
  "language_info": {
   "codemirror_mode": {
    "name": "ipython",
    "version": 3
   },
   "file_extension": ".py",
   "mimetype": "text/x-python",
   "name": "python",
   "nbconvert_exporter": "python",
   "pygments_lexer": "ipython3",
   "version": "3.7.6"
  }
 },
 "nbformat": 4,
 "nbformat_minor": 4
}
