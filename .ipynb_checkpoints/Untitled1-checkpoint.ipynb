{
 "cells": [
  {
   "cell_type": "code",
   "execution_count": 1,
   "metadata": {},
   "outputs": [],
   "source": [
    "import time\n",
    "start = time.time()  # 시작 시간 저장\n",
    "\n",
    "import numpy as np\n",
    "import sys\n",
    "import os\n",
    "import tensorflow.compat.v1 as tf\n",
    "import cv2\n",
    "from PIL import Image\n",
    "import object_detection.cut_obj as co\n",
    "\n",
    "image_path = './test_images/img1.jpeg'\n",
    "\n",
    "result_dict = co.img_cut(image_path)\n",
    "image_np = result_dict['image_np']\n",
    "points = result_dict['points']\n",
    "\n",
    "import cordinate.Billiards_Detect_test as bd\n",
    "import cordinate.point_order as po\n",
    "\n",
    "import math\n",
    "import matplotlib.pyplot as plt\n",
    "\n",
    "result = np.array(bd.Detecting(image_np))\n",
    "result = po.point_order(result)\n",
    "\n",
    "all_points = [(result[0][0], result[0][1]),\n",
    "             (result[1][0], result[1][1]),\n",
    "             (result[2][0], result[2][1]),\n",
    "             (result[3][0], result[3][1])]\n",
    "\n",
    "all_points.append((points[0][0], points[0][1]))\n",
    "all_points.append((points[1][0], points[1][1]))\n",
    "all_points.append((points[2][0], points[2][1]))\n",
    "\n",
    "import trans.imgwarp2 as iw\n",
    "\n",
    "iw.warp(all_points)\n",
    "print(\"time cost:\", time.time() - start)  # 현재시각 - 시작시간 = 실행 시간\n",
    "cv2.waitKey(0)"
   ]
  }
 ],
 "metadata": {
  "kernelspec": {
   "display_name": "Python 3",
   "language": "python",
   "name": "python3"
  },
  "language_info": {
   "codemirror_mode": {
    "name": "ipython",
    "version": 3
   },
   "file_extension": ".py",
   "mimetype": "text/x-python",
   "name": "python",
   "nbconvert_exporter": "python",
   "pygments_lexer": "ipython3",
   "version": "3.7.6"
  }
 },
 "nbformat": 4,
 "nbformat_minor": 4
}
