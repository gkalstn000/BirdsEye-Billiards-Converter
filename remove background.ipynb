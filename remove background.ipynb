{
 "cells": [
  {
   "cell_type": "code",
   "execution_count": 1,
   "metadata": {},
   "outputs": [
    {
     "name": "stdout",
     "output_type": "stream",
     "text": [
      "README.md               \u001b[34mcordinate\u001b[m\u001b[m               show_result.png\n",
      "Untitled.ipynb          dst.jpg                 \u001b[34mtest_image_result\u001b[m\u001b[m\n",
      "Untitled.ipynb.zip      heo.txt                 \u001b[34mtest_images\u001b[m\u001b[m\n",
      "Untitled1.ipynb         \u001b[34mimgs\u001b[m\u001b[m                    \u001b[34mtest_video\u001b[m\u001b[m\n",
      "Untitled2.ipynb         main.ipynb              \u001b[34mtest_video_result\u001b[m\u001b[m\n",
      "Untitled3.ipynb         main.py                 \u001b[34mtrans\u001b[m\u001b[m\n",
      "Untitled4.ipynb         \u001b[34mobject_detection\u001b[m\u001b[m        \u001b[31mvideo_trans.py\u001b[m\u001b[m\n",
      "base.png                remove background.ipynb\n"
     ]
    }
   ],
   "source": [
    "!ls"
   ]
  },
  {
   "cell_type": "code",
   "execution_count": 2,
   "metadata": {},
   "outputs": [
    {
     "name": "stdout",
     "output_type": "stream",
     "text": [
      "3.7.6 (default, Jan  8 2020, 13:42:34) \n",
      "[Clang 4.0.1 (tags/RELEASE_401/final)]\n"
     ]
    }
   ],
   "source": [
    "\n",
    "import numpy as np\n",
    "import cordinate.Billiards_Detect_test as bd\n",
    "import cordinate.point_order as po\n",
    "#import sys\n",
    "#import os\n",
    "#import tensorflow.compat.v1 as tf\n",
    "import cv2\n",
    "from PIL import Image\n",
    "import object_detection.cut_obj as co\n",
    "import trans.imgwarp2 as iw\n",
    "import trans.show_result as sr"
   ]
  },
  {
   "cell_type": "code",
   "execution_count": 3,
   "metadata": {},
   "outputs": [],
   "source": [
    "image_path = './test_images/img2.jpeg'\n",
    "result_dict = co.img_cut(image_path)\n",
    "\n",
    "image_np = result_dict['image_np']\n",
    "points = result_dict['points']"
   ]
  },
  {
   "cell_type": "code",
   "execution_count": 4,
   "metadata": {},
   "outputs": [
    {
     "name": "stdout",
     "output_type": "stream",
     "text": [
      "당구대 [(7, 199), (48, 12), (154, 501), (332, 204)]\n",
      "당구공 [(95, 198), (217, 362), (36, 234)]\n"
     ]
    }
   ],
   "source": [
    "\n",
    "result = np.array(bd.Detecting(image_np))\n",
    "result = po.point_order(result)\n",
    "\n",
    "all_points = [(result[0][0], result[0][1]),\n",
    "             (result[1][0], result[1][1]),\n",
    "             (result[2][0], result[2][1]),\n",
    "             (result[3][0], result[3][1])]\n",
    "\n",
    "all_points.append((points[0][0], points[0][1]))\n",
    "all_points.append((points[1][0], points[1][1]))\n",
    "all_points.append((points[2][0], points[2][1]))\n",
    "print('당구대', all_points[:4])\n",
    "print('당구공', all_points[4:])"
   ]
  },
  {
   "cell_type": "code",
   "execution_count": null,
   "metadata": {},
   "outputs": [],
   "source": [
    "iw.warp(all_points)"
   ]
  },
  {
   "cell_type": "code",
   "execution_count": null,
   "metadata": {},
   "outputs": [],
   "source": []
  }
 ],
 "metadata": {
  "kernelspec": {
   "display_name": "Python 3",
   "language": "python",
   "name": "python3"
  },
  "language_info": {
   "codemirror_mode": {
    "name": "ipython",
    "version": 3
   },
   "file_extension": ".py",
   "mimetype": "text/x-python",
   "name": "python",
   "nbconvert_exporter": "python",
   "pygments_lexer": "ipython3",
   "version": "3.7.6"
  }
 },
 "nbformat": 4,
 "nbformat_minor": 4
}
