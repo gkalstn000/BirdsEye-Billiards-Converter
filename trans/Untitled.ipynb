{
 "cells": [
  {
   "cell_type": "code",
   "execution_count": 2,
   "metadata": {},
   "outputs": [
    {
     "name": "stdout",
     "output_type": "stream",
     "text": [
      "/Users/gkalstn/capstone\n"
     ]
    }
   ],
   "source": [
    "%cd .."
   ]
  },
  {
   "cell_type": "code",
   "execution_count": 3,
   "metadata": {},
   "outputs": [],
   "source": [
    "\n",
    "import numpy as np\n",
    "import cordinate.edge_detect as ed\n",
    "import cordinate.point_order as po\n",
    "#import sys\n",
    "#import os\n",
    "#import tensorflow.compat.v1 as tf\n",
    "import cv2\n",
    "from PIL import Image\n",
    "import object_detection.cut_obj as co\n",
    "import trans.imgwarp2 as iw\n",
    "import trans.show_result as sr\n"
   ]
  },
  {
   "cell_type": "code",
   "execution_count": 61,
   "metadata": {},
   "outputs": [
    {
     "name": "stdout",
     "output_type": "stream",
     "text": [
      "img_cut_time : 5.622473239898682\n"
     ]
    }
   ],
   "source": [
    "\n",
    "import time\n",
    "\n",
    "image_path = './test_images/img2.jpeg'\n",
    "\n",
    "'''\n",
    "img_cut_part\n",
    "'''\n",
    "img_cut_time = time.time()\n",
    "result_dict = co.img_cut(image_path)\n",
    "image_np = result_dict['image_np']\n",
    "points = result_dict['points']\n",
    "print(\"img_cut_time :\", time.time() - img_cut_time)"
   ]
  },
  {
   "cell_type": "code",
   "execution_count": 62,
   "metadata": {},
   "outputs": [],
   "source": [
    "\n",
    "import cv2\n",
    "import numpy as np\n",
    "import numpy.linalg as lin"
   ]
  },
  {
   "cell_type": "code",
   "execution_count": 63,
   "metadata": {},
   "outputs": [
    {
     "data": {
      "text/plain": [
       "(521, 373, 3)"
      ]
     },
     "execution_count": 63,
     "metadata": {},
     "output_type": "execute_result"
    }
   ],
   "source": [
    "image_np.shape"
   ]
  },
  {
   "cell_type": "code",
   "execution_count": 64,
   "metadata": {},
   "outputs": [],
   "source": [
    "    h, w = image_np[:,:,0].shape\n",
    "    \n",
    "    if (h > 1000) or (w > 1000) :\n",
    "        h, w = int(h/3), int(w/3)\n",
    "        image_np = cv2.resize(image_np, dsize=(w, h), interpolation=cv2.INTER_AREA)\n",
    "\n",
    "    no_background = np.zeros((h, w))\n",
    "\n",
    "    for i in range(h) :\n",
    "        for j in range(w) :\n",
    "            if (image_np[i,j,0] < image_np[i,j,1]) and (image_np[i,j,1] < image_np[i,j,2] and (image_np[i,j,0]<=44)) and (image_np[i,j,2]>170):\n",
    "                no_background[i, j] = image_np[i, j, 0]\n",
    "\n",
    "        \n",
    "   \n",
    "\n",
    "    for i in range(h) :\n",
    "        for j in range(w) :\n",
    "            if no_background[i, j] != 0 :\n",
    "                no_background[i, j] = 200\n",
    "\n",
    "\n",
    "\n",
    "    w_list = np.linspace(0, w-1, 17)\n",
    "    h_list = np.linspace(0, h-1, 17)\n",
    "\n",
    "\n",
    "    right = []\n",
    "    left = []\n"
   ]
  },
  {
   "cell_type": "code",
   "execution_count": 21,
   "metadata": {},
   "outputs": [
    {
     "data": {
      "text/plain": [
       "array([  0.  ,  23.25,  46.5 ,  69.75,  93.  , 116.25, 139.5 , 162.75,\n",
       "       186.  , 209.25, 232.5 , 255.75, 279.  , 302.25, 325.5 , 348.75,\n",
       "       372.  ])"
      ]
     },
     "execution_count": 21,
     "metadata": {},
     "output_type": "execute_result"
    }
   ],
   "source": [
    "w_list"
   ]
  },
  {
   "cell_type": "code",
   "execution_count": 8,
   "metadata": {},
   "outputs": [],
   "source": [
    "\n",
    "\n",
    "def getcos(combination_list) :\n",
    "    v1 = combination_list[1] - combination_list[0]\n",
    "    v2 = combination_list[2] - combination_list[0]\n",
    "    cos = np.dot(v1, v2) / (np.linalg.norm(v1, ord=2)*np.linalg.norm(v2, ord=2))\n",
    "    \n",
    "    return abs(cos)\n",
    "\n",
    "def test_line_num(point_lists) :\n",
    "    for i in range(len(point_lists)-3) :\n",
    "        if getcos(np.array(point_lists[i:i+3])) < 0.999 :\n",
    "            print('detected 2 lines')\n",
    "            return i\n",
    "            \n",
    "    \n",
    "    print('detected 1 lines')\n",
    "    return 0\n",
    "\n",
    "\n",
    "def equation(point_list1, point_list2) :\n",
    "    x11 = point_list1[0][0]\n",
    "    y11 = point_list1[0][1]\n",
    "    x12 = point_list1[1][0]\n",
    "    y12 = point_list1[1][1]\n",
    "    \n",
    "    x21 = point_list2[0][0]\n",
    "    y21 = point_list2[0][1]\n",
    "    x22 = point_list2[1][0]\n",
    "    y22 = point_list2[1][1]\n",
    "    \n",
    "    A = np.array([[y12-y11, -x12+x11],\n",
    "                  [y22-y21, -x22+x21]])    \n",
    "    inv_A = lin.inv(A)\n",
    "    X = np.array([x11*y12-x12*y11, x21*y22-x22*y21])\n",
    "    \n",
    "    result = np.dot(inv_A, X.T)\n",
    "    \n",
    "    return result\n",
    "\n",
    "\n",
    "import matplotlib.pyplot as plt\n",
    "\n",
    "def graph_(lists) :\n",
    "    x = []\n",
    "    y = []\n",
    "    for i in lists :\n",
    "        x.append(i[1])\n",
    "        y.append(i[0])\n",
    "    plt.plot(x,  # x\n",
    "             y,  # y \n",
    "             linestyle='none', \n",
    "             marker='o', \n",
    "             markersize=10,\n",
    "             color='blue', \n",
    "             alpha=0.5)\n",
    "    plt.show()"
   ]
  },
  {
   "cell_type": "code",
   "execution_count": 66,
   "metadata": {},
   "outputs": [],
   "source": [
    "    for i in h_list :\n",
    "        i = int(i)\n",
    "        lists = no_background[i, :].tolist()\n",
    "    \n",
    "        if(not (200 in lists)) :\n",
    "            continue\n",
    "    \n",
    "        for j in range(w) :\n",
    "            if no_background[i, w-1-j] == 200 :\n",
    "                right.append([i, w-1-j])\n",
    "                break\n",
    "\n",
    "        for j in range(w) :\n",
    "            if no_background[i, j] == 200 :\n",
    "                left.append([i, j])\n",
    "                break"
   ]
  },
  {
   "cell_type": "code",
   "execution_count": 51,
   "metadata": {},
   "outputs": [
    {
     "data": {
      "text/plain": [
       "[32, 44]"
      ]
     },
     "execution_count": 51,
     "metadata": {},
     "output_type": "execute_result"
    }
   ],
   "source": []
  },
  {
   "cell_type": "code",
   "execution_count": 53,
   "metadata": {},
   "outputs": [
    {
     "data": {
      "text/plain": [
       "44"
      ]
     },
     "execution_count": 53,
     "metadata": {},
     "output_type": "execute_result"
    }
   ],
   "source": [
    "left[0][-1]"
   ]
  },
  {
   "cell_type": "code",
   "execution_count": 67,
   "metadata": {},
   "outputs": [
    {
     "name": "stdout",
     "output_type": "stream",
     "text": [
      "detected 2 lines\n",
      "detected 2 lines\n"
     ]
    }
   ],
   "source": [
    "    s1 = []\n",
    "    s2 = []\n",
    "    s3 = []\n",
    "    s4 = []\n",
    "\n",
    "    piv1 = test_line_num(right)\n",
    "    piv2 = test_line_num(left)\n",
    "\n",
    "    if piv1 == 0 :\n",
    "        s1 = right\n",
    "        if left[-1][-1] > left[0][-1] :\n",
    "            s3 += left[:piv2]\n",
    "            s2 += left[piv2+4:]\n",
    "        else :\n",
    "            s2 += left[:piv2]\n",
    "            s3 += left[piv2+4:]\n",
    "        \n",
    "        for i in w_list :\n",
    "            i = int(i)\n",
    "            lists = no_background[i, :].tolist()\n",
    "    \n",
    "            if(not (200 in lists)) :\n",
    "                continue\n",
    "    \n",
    "            for j in range(h) :\n",
    "                if no_background[h-j-1, i] == 200 :\n",
    "                    s4.append([h-j-1, i])\n",
    "                    break\n",
    "        \n",
    "        \n",
    "    \n",
    "    else :\n",
    "        s1 += right[:piv1]\n",
    "        s2 += right[piv1+4:]\n",
    "        s4 += left[:piv2]\n",
    "        s3 += left[piv2+4:]"
   ]
  },
  {
   "cell_type": "code",
   "execution_count": 68,
   "metadata": {},
   "outputs": [
    {
     "data": {
      "image/png": "[encoded data removed]",
      "text/plain": [
       "<Figure size 432x288 with 1 Axes>"
      ]
     },
     "metadata": {
      "needs_background": "light"
     },
     "output_type": "display_data"
    },
    {
     "data": {
      "image/png": "[encoded data removed]",
      "text/plain": [
       "<Figure size 432x288 with 1 Axes>"
      ]
     },
     "metadata": {
      "needs_background": "light"
     },
     "output_type": "display_data"
    },
    {
     "data": {
      "image/png": "[encoded data removed]",
      "text/plain": [
       "<Figure size 432x288 with 1 Axes>"
      ]
     },
     "metadata": {
      "needs_background": "light"
     },
     "output_type": "display_data"
    },
    {
     "data": {
      "image/png": "[encoded data removed]",
      "text/plain": [
       "<Figure size 432x288 with 1 Axes>"
      ]
     },
     "metadata": {
      "needs_background": "light"
     },
     "output_type": "display_data"
    },
    {
     "name": "stdout",
     "output_type": "stream",
     "text": [
      "None None None None\n"
     ]
    }
   ],
   "source": [
    "print(graph_(s1), graph_(s2), graph_(s3), graph_(s4))"
   ]
  },
  {
   "cell_type": "code",
   "execution_count": 69,
   "metadata": {},
   "outputs": [
    {
     "data": {
      "image/png": "[encoded data removed]",
      "text/plain": [
       "<Figure size 432x288 with 1 Axes>"
      ]
     },
     "metadata": {
      "needs_background": "light"
     },
     "output_type": "display_data"
    },
    {
     "name": "stdout",
     "output_type": "stream",
     "text": [
      "None\n"
     ]
    }
   ],
   "source": [
    "print(graph_(s4+s1))"
   ]
  },
  {
   "cell_type": "code",
   "execution_count": 70,
   "metadata": {},
   "outputs": [],
   "source": [
    "    p1 = equation(s1, s2)\n",
    "    p2 = equation(s2, s3)\n",
    "    p3 = equation(s3, s4)\n",
    "    p4 = equation(s4, s1)\n",
    "\n",
    "\n",
    "    point_list = [p1, p2, p3, p4]"
   ]
  },
  {
   "cell_type": "code",
   "execution_count": 71,
   "metadata": {},
   "outputs": [
    {
     "data": {
      "text/plain": [
       "[array([202.26865672, 328.66350068]),\n",
       " array([503.2, 155.4]),\n",
       " array([199.95652174,   8.37285903]),\n",
       " array([ 9.8       , 48.70909091])]"
      ]
     },
     "execution_count": 71,
     "metadata": {},
     "output_type": "execute_result"
    }
   ],
   "source": [
    "point_list"
   ]
  },
  {
   "cell_type": "code",
   "execution_count": 72,
   "metadata": {},
   "outputs": [
    {
     "ename": "NameError",
     "evalue": "name 'result' is not defined",
     "output_type": "error",
     "traceback": [
      "\u001b[0;31m---------------------------------------------------------------------------\u001b[0m",
      "\u001b[0;31mNameError\u001b[0m                                 Traceback (most recent call last)",
      "\u001b[0;32m<ipython-input-72-dc8ada37b1a6>\u001b[0m in \u001b[0;36m<module>\u001b[0;34m\u001b[0m\n\u001b[0;32m----> 1\u001b[0;31m all_points = [(result[0][0], result[0][1]),\n\u001b[0m\u001b[1;32m      2\u001b[0m              \u001b[0;34m(\u001b[0m\u001b[0mresult\u001b[0m\u001b[0;34m[\u001b[0m\u001b[0;36m1\u001b[0m\u001b[0;34m]\u001b[0m\u001b[0;34m[\u001b[0m\u001b[0;36m0\u001b[0m\u001b[0;34m]\u001b[0m\u001b[0;34m,\u001b[0m \u001b[0mresult\u001b[0m\u001b[0;34m[\u001b[0m\u001b[0;36m1\u001b[0m\u001b[0;34m]\u001b[0m\u001b[0;34m[\u001b[0m\u001b[0;36m1\u001b[0m\u001b[0;34m]\u001b[0m\u001b[0;34m)\u001b[0m\u001b[0;34m,\u001b[0m\u001b[0;34m\u001b[0m\u001b[0;34m\u001b[0m\u001b[0m\n\u001b[1;32m      3\u001b[0m              \u001b[0;34m(\u001b[0m\u001b[0mresult\u001b[0m\u001b[0;34m[\u001b[0m\u001b[0;36m2\u001b[0m\u001b[0;34m]\u001b[0m\u001b[0;34m[\u001b[0m\u001b[0;36m0\u001b[0m\u001b[0;34m]\u001b[0m\u001b[0;34m,\u001b[0m \u001b[0mresult\u001b[0m\u001b[0;34m[\u001b[0m\u001b[0;36m2\u001b[0m\u001b[0;34m]\u001b[0m\u001b[0;34m[\u001b[0m\u001b[0;36m1\u001b[0m\u001b[0;34m]\u001b[0m\u001b[0;34m)\u001b[0m\u001b[0;34m,\u001b[0m\u001b[0;34m\u001b[0m\u001b[0;34m\u001b[0m\u001b[0m\n\u001b[1;32m      4\u001b[0m              (result[3][0], result[3][1])]\n\u001b[1;32m      5\u001b[0m \u001b[0;34m\u001b[0m\u001b[0m\n",
      "\u001b[0;31mNameError\u001b[0m: name 'result' is not defined"
     ]
    }
   ],
   "source": [
    "\n",
    "all_points = [(result[0][0], result[0][1]),\n",
    "             (result[1][0], result[1][1]),\n",
    "             (result[2][0], result[2][1]),\n",
    "             (result[3][0], result[3][1])]\n",
    "\n",
    "all_points\n",
    "\n",
    "all_points.append((points[0][0], points[0][1]))\n",
    "all_points.append((points[1][0], points[1][1]))\n",
    "all_points.append((points[2][0], points[2][1]))\n"
   ]
  },
  {
   "cell_type": "code",
   "execution_count": 5,
   "metadata": {},
   "outputs": [
    {
     "name": "stdout",
     "output_type": "stream",
     "text": [
      "img_cut_time : 5.756520748138428\n",
      "detected 2 lines\n",
      "detected 2 lines\n",
      "[array([202.26865672, 328.66350068]), array([503.2, 155.4]), array([199.95652174,   8.37285903]), array([ 9.8       , 48.70909091])]\n",
      "cordinate_time : 0.5874001979827881\n"
     ]
    }
   ],
   "source": [
    "import time\n",
    "\n",
    "image_path = './test_images/img2.jpeg'\n",
    "\n",
    "'''\n",
    "img_cut_part\n",
    "'''\n",
    "img_cut_time = time.time()\n",
    "result_dict = co.img_cut(image_path)\n",
    "image_np = result_dict['image_np']\n",
    "points = result_dict['points']\n",
    "print(\"img_cut_time :\", time.time() - img_cut_time)\n",
    "\n",
    "\n",
    "\n",
    "\n",
    "'''\n",
    "get_cordinate\n",
    "'''\n",
    "cordinate_time = time.time()\n",
    "result = np.array(ed.cord_edge(image_np))\n",
    "result = po.point_order(result)\n",
    "print(\"cordinate_time :\", time.time() - cordinate_time)\n",
    "\n",
    "\n",
    "\n",
    "all_points = [(result[0][0], result[0][1]),\n",
    "             (result[1][0], result[1][1]),\n",
    "             (result[2][0], result[2][1]),\n",
    "             (result[3][0], result[3][1])]\n",
    "\n",
    "all_points\n",
    "\n",
    "all_points.append((points[0][0], points[0][1]))\n",
    "all_points.append((points[1][0], points[1][1]))\n",
    "all_points.append((points[2][0], points[2][1]))\n"
   ]
  },
  {
   "cell_type": "code",
   "execution_count": 6,
   "metadata": {},
   "outputs": [
    {
     "data": {
      "text/plain": [
       "[(9.8, 48.709090909090904),\n",
       " (202.2686567164179, 328.66350067842603),\n",
       " (199.95652173913044, 8.372859025032941),\n",
       " (503.20000000000005, 155.39999999999998),\n",
       " (95, 198),\n",
       " (217, 362),\n",
       " (36, 234)]"
      ]
     },
     "execution_count": 6,
     "metadata": {},
     "output_type": "execute_result"
    }
   ],
   "source": [
    "all_points"
   ]
  },
  {
   "cell_type": "code",
   "execution_count": 15,
   "metadata": {},
   "outputs": [
    {
     "data": {
      "image/png": "[encoded data removed]",
      "text/plain": [
       "<Figure size 432x288 with 1 Axes>"
      ]
     },
     "metadata": {
      "needs_background": "light"
     },
     "output_type": "display_data"
    }
   ],
   "source": [
    "\n",
    "\n",
    "all_points = [(result[0][1], result[0][0]),\n",
    "             (result[1][1], result[1][0]),\n",
    "             (result[2][1], result[2][0]),\n",
    "             (result[3][1], result[3][0])]\n",
    "\n",
    "\n",
    "all_points.append((points[0][0], points[0][1]))\n",
    "all_points.append((points[1][0], points[1][1]))\n",
    "all_points.append((points[2][0], points[2][1]))\n",
    "\n",
    "graph_(all_points)"
   ]
  },
  {
   "cell_type": "code",
   "execution_count": null,
   "metadata": {},
   "outputs": [],
   "source": []
  }
 ],
 "metadata": {
  "kernelspec": {
   "display_name": "Python 3",
   "language": "python",
   "name": "python3"
  },
  "language_info": {
   "codemirror_mode": {
    "name": "ipython",
    "version": 3
   },
   "file_extension": ".py",
   "mimetype": "text/x-python",
   "name": "python",
   "nbconvert_exporter": "python",
   "pygments_lexer": "ipython3",
   "version": "3.7.6"
  }
 },
 "nbformat": 4,
 "nbformat_minor": 4
}
