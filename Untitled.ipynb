{
 "cells": [
  {
   "cell_type": "code",
   "execution_count": 1,
   "metadata": {},
   "outputs": [],
   "source": [
    "import cv2\n",
    "import numpy as np\n",
    "import numpy.linalg as lin\n",
    "\n",
    "\n",
    "img_path = './object_detection/special_res/img2.jpg'\n",
    "#img_path = '/Users/gkalstn/capstone/imgs/before_results.png'\n",
    "\n",
    "origin = cv2.imread(img_path)\n",
    "h, w = origin[:,:,0].shape\n",
    "if (h > 1000) or (w > 1000) :\n",
    "    h, w = int(h/3), int(w/3)\n",
    "origin = cv2.resize(origin, dsize=(w, h), interpolation=cv2.INTER_AREA)\n",
    "\n",
    "\n",
    "no_background = np.zeros((h, w, 3))\n",
    "\n",
    "for i in range(h) :\n",
    "    for j in range(w) :\n",
    "        if (origin[i,j,0] > origin[i,j,1]) and (origin[i,j,1] > origin[i,j,2] and (origin[i,j,0]>190)) and (origin[i,j,1]<170):\n",
    "            no_background[i, j] = origin[i, j]\n",
    "#            print(origin[i,j])\n",
    "\n",
    "\n",
    "        \n",
    "            \n",
    "\n",
    "wha = no_background[:,:,0]\n",
    "\n",
    "for i in range(h) :\n",
    "    for j in range(w) :\n",
    "        if wha[i, j] != 0 :\n",
    "            wha[i, j] = 200"
   ]
  },
  {
   "cell_type": "code",
   "execution_count": 2,
   "metadata": {},
   "outputs": [],
   "source": [
    "\n",
    "piv = max(w, h)\n",
    "\n",
    "a = wha[200, :].tolist()\n",
    "a\n",
    "a.index(200)\n",
    "\n",
    "piv_x_list = np.linspace(0, piv-1, 50)\n",
    "\n",
    "side1 = []\n",
    "side2 = []"
   ]
  },
  {
   "cell_type": "code",
   "execution_count": 4,
   "metadata": {},
   "outputs": [],
   "source": [
    "\n",
    "for i in piv_x_list : #i 가 행\n",
    "    i = int(i)\n",
    "    if piv == w :\n",
    "        lists = wha[:, i].tolist()\n",
    "        if (not (200 in lists)) or (lists.count(200) == 1) :\n",
    "            continue\n",
    "        \n",
    "        for j in range(h) :\n",
    "            if wha[j, i] == 200 :\n",
    "                side1.append([j, i])\n",
    "                break\n",
    "            \n",
    "        for j in range(h) :    \n",
    "            if wha[h-1-j, i] == 200 :\n",
    "                side2.append([h-1-j, i])\n",
    "                break\n",
    "        \n",
    "        \n",
    "        \n",
    "    else :\n",
    "        lists = wha[i, :].tolist()\n",
    "        if (not (200 in lists)) or (lists.count(200) == 1):\n",
    "            continue\n",
    "        \n",
    "        for j in range(w) :\n",
    "            if wha[i, j] == 200 :\n",
    "                side1.append([i, j])\n",
    "                break\n",
    "        for j in range(w) :\n",
    "            if wha[i, w-1-j] == 200 :\n",
    "                side2.append([i, w-1-j])\n",
    "                break\n"
   ]
  },
  {
   "cell_type": "code",
   "execution_count": 5,
   "metadata": {},
   "outputs": [],
   "source": [
    "\n",
    "s1 = []\n",
    "s2 = []\n",
    "s3 = []\n",
    "s4 = []\n",
    "\n",
    "def getcos(combination_list) :\n",
    "    v1 = combination_list[1] - combination_list[0]\n",
    "    v2 = combination_list[2] - combination_list[0]\n",
    "    cos = np.dot(v1, v2) / (np.linalg.norm(v1, ord=2)*np.linalg.norm(v2, ord=2))\n",
    "    \n",
    "    return abs(cos)\n",
    "\n",
    "\n",
    "for i in range(len(side1)-3) :\n",
    "    if getcos(np.array(side1[i:i+3])) < 0.999 :\n",
    "        s1 += side1[:i]\n",
    "        s2 += side1[i+4:]\n",
    "        break\n",
    "\n",
    "for i in range(len(side1)-3) :\n",
    "    if getcos(np.array(side1[i:i+3])) < 0.999 :\n",
    "        s4 += side2[:i]\n",
    "        s3 += side2[i+4:]\n",
    "        break\n",
    "    \n",
    "\n",
    "def equation(point_list1, point_list2) :\n",
    "    x11 = point_list1[0][0]\n",
    "    y11 = point_list1[0][1]\n",
    "    x12 = point_list1[1][0]\n",
    "    y12 = point_list1[1][1]\n",
    "    \n",
    "    x21 = point_list2[0][0]\n",
    "    y21 = point_list2[0][1]\n",
    "    x22 = point_list2[1][0]\n",
    "    y22 = point_list2[1][1]\n",
    "    \n",
    "    A = np.array([[y12-y11, -x12+x11],\n",
    "                  [y22-y21, -x22+x21]])    \n",
    "    inv_A = lin.inv(A)\n",
    "    X = np.array([x11*y12-x12*y11, x21*y22-x22*y21])\n",
    "    \n",
    "    result = np.dot(inv_A, X.T)\n",
    "    \n",
    "    return result"
   ]
  },
  {
   "cell_type": "code",
   "execution_count": 6,
   "metadata": {},
   "outputs": [],
   "source": [
    "\n",
    "    \n",
    "p1 = equation(s1, s2)\n",
    "p2 = equation(s2, s3)\n",
    "p3 = equation(s3, s4)\n",
    "p4 = equation(s4, s1)"
   ]
  },
  {
   "cell_type": "code",
   "execution_count": 7,
   "metadata": {},
   "outputs": [],
   "source": [
    "\n",
    "\n",
    "\n",
    "point_list = [p1, p2, p3, p4]"
   ]
  },
  {
   "cell_type": "code",
   "execution_count": 8,
   "metadata": {},
   "outputs": [
    {
     "data": {
      "image/png": "[encoded data removed]",
      "text/plain": [
       "<Figure size 432x288 with 1 Axes>"
      ]
     },
     "metadata": {
      "needs_background": "light"
     },
     "output_type": "display_data"
    }
   ],
   "source": [
    "\n",
    "import matplotlib.pyplot as plt\n",
    "x=[]\n",
    "y=[]\n",
    "for i in side1 :\n",
    "    x.append(i[1])\n",
    "    y.append(i[0])\n",
    "\n",
    "\n",
    "plt.plot(x, y, 'ro')\n",
    "plt.show()"
   ]
  },
  {
   "cell_type": "code",
   "execution_count": 9,
   "metadata": {},
   "outputs": [
    {
     "data": {
      "image/png": "[encoded data removed]",
      "text/plain": [
       "<Figure size 432x288 with 1 Axes>"
      ]
     },
     "metadata": {
      "needs_background": "light"
     },
     "output_type": "display_data"
    }
   ],
   "source": [
    "for i in side2 :\n",
    "    x.append(i[1])\n",
    "    y.append(i[0])\n",
    "\n",
    "\n",
    "plt.plot(x, y, 'ro')\n",
    "plt.show()"
   ]
  },
  {
   "cell_type": "code",
   "execution_count": null,
   "metadata": {},
   "outputs": [],
   "source": []
  },
  {
   "cell_type": "code",
   "execution_count": null,
   "metadata": {},
   "outputs": [],
   "source": []
  }
 ],
 "metadata": {
  "kernelspec": {
   "display_name": "Python 3",
   "language": "python",
   "name": "python3"
  },
  "language_info": {
   "codemirror_mode": {
    "name": "ipython",
    "version": 3
   },
   "file_extension": ".py",
   "mimetype": "text/x-python",
   "name": "python",
   "nbconvert_exporter": "python",
   "pygments_lexer": "ipython3",
   "version": "3.7.6"
  }
 },
 "nbformat": 4,
 "nbformat_minor": 4
}
