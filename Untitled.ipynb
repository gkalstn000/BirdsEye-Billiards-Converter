{
 "cells": [
  {
   "cell_type": "code",
<<<<<<< HEAD
   "execution_count": 1,
   "metadata": {},
   "outputs": [],
   "source": [
    "import cv2\n",
    "import numpy as np\n",
    "import numpy.linalg as lin\n",
    "\n",
    "\n",
    "img_path = './object_detection/special_res/img2.jpg'\n",
    "#img_path = '/Users/gkalstn/capstone/imgs/before_results.png'\n",
    "\n",
    "origin = cv2.imread(img_path)\n",
    "h, w = origin[:,:,0].shape\n",
    "if (h > 1000) or (w > 1000) :\n",
    "    h, w = int(h/3), int(w/3)\n",
    "origin = cv2.resize(origin, dsize=(w, h), interpolation=cv2.INTER_AREA)\n",
    "\n",
    "\n",
    "no_background = np.zeros((h, w, 3))\n",
    "\n",
    "for i in range(h) :\n",
    "    for j in range(w) :\n",
    "        if (origin[i,j,0] > origin[i,j,1]) and (origin[i,j,1] > origin[i,j,2] and (origin[i,j,0]>190)) and (origin[i,j,1]<170):\n",
    "            no_background[i, j] = origin[i, j]\n",
    "#            print(origin[i,j])\n",
    "\n",
    "\n",
    "        \n",
    "            \n",
    "\n",
    "wha = no_background[:,:,0]\n",
    "\n",
    "for i in range(h) :\n",
    "    for j in range(w) :\n",
    "        if wha[i, j] != 0 :\n",
    "            wha[i, j] = 200"
=======
   "execution_count": 5,
   "metadata": {},
   "outputs": [],
   "source": [
    "\n",
    "import numpy as np\n",
    "from distutils.version import StrictVersion\n",
    "\n",
    "import cv2\n",
    "import tensorflow.compat.v1 as tf\n",
    "import time\n",
    "import sys\n",
    "\n",
    "\n",
    "import cordinate.edge_detect2 as ed\n",
    "import cordinate.point_order as po\n",
    "import object_detection.cut_obj as co\n",
    "import trans.imgwarp2 as iw\n",
    "\n",
    "\n",
    "\n",
    "\n",
    "\n",
    "#This is needed since the code is stored in the object_detection    folder.\n",
    "sys.path.append(\"..\")\n",
    "#from object_detection.utils import ops as utils_ops\n",
    "\n",
    "if StrictVersion(tf.__version__) < StrictVersion('1.9.0'):\n",
    "  raise ImportError('Please upgrade your TensorFlow installation to v1.9.* or later!')\n",
    "\n"
>>>>>>> 4d98d3155f3898766a74db6c65cd60c52c433930
   ]
  },
  {
   "cell_type": "code",
<<<<<<< HEAD
   "execution_count": 2,
   "metadata": {},
   "outputs": [],
   "source": [
    "\n",
    "piv = max(w, h)\n",
    "\n",
    "a = wha[200, :].tolist()\n",
    "a\n",
    "a.index(200)\n",
    "\n",
    "piv_x_list = np.linspace(0, piv-1, 50)\n",
    "\n",
    "side1 = []\n",
    "side2 = []"
=======
   "execution_count": 6,
   "metadata": {},
   "outputs": [
    {
     "name": "stdout",
     "output_type": "stream",
     "text": [
      "loading model from faster_rcnn_inception\n",
      "loading graphs\n",
      "tempo build graph = 0.797623872756958\n"
     ]
    }
   ],
   "source": [
    "filename = './faster_rcnn_inception_400000step.avi'\n",
    "#codec = cv2.VideoWriter_fourcc('W', 'M', 'V', '2')\n",
    "#codec = cv2.VideoWriter_fourcc(*'XVID')\n",
    "codec = cv2.VideoWriter_fourcc(*'mp4v')\n",
    "cap = cv2.VideoCapture('./test_video/video5.mp4')\n",
    "framerate = round(cap.get(5),2)\n",
    "    \n",
    "#w = int(cap.get(3))\n",
    "#h = int(cap.get(4))\n",
    "w, h = 315, 612\n",
    "resolution = (w, h)\n",
    "\n",
    "VideoFileOutput = cv2.VideoWriter(filename, codec, framerate, resolution)    \n",
    "\n",
    "    ################################\n",
    "    # # Model preparation \n",
    "\n",
    "    # ## Variables\n",
    "    # \n",
    "    # Any model exported using the `export_inference_graph.py` tool can be loaded here simply by changing `PATH_TO_FROZEN_GRAPH` to point to a new .pb file.  \n",
    "    # \n",
    "\n",
    "\n",
    "# What model to download.\n",
    "PATH_TO_FROZEN_GRAPH = './object_detection/fine_tuned_model/frozen_inference_graph.pb'\n",
    "MODEL_NAME = 'faster_rcnn_inception'\n",
    "print(\"loading model from \" + MODEL_NAME)\n",
    "\n",
    "\n",
    "# ## Load a (frozen) Tensorflow model into memory.\n",
    "\n",
    "time_graph = time.time()\n",
    "print('loading graphs')\n",
    "detection_graph = tf.Graph()\n",
    "with detection_graph.as_default():\n",
    "    od_graph_def = tf.GraphDef()\n",
    "    with tf.gfile.GFile(PATH_TO_FROZEN_GRAPH, 'rb') as fid:\n",
    "        serialized_graph = fid.read()\n",
    "        od_graph_def.ParseFromString(serialized_graph)\n",
    "        tf.import_graph_def(od_graph_def, name='')\n",
    "print(\"tempo build graph = \" + str(time.time() - time_graph))"
>>>>>>> 4d98d3155f3898766a74db6c65cd60c52c433930
   ]
  },
  {
   "cell_type": "code",
<<<<<<< HEAD
   "execution_count": 4,
   "metadata": {},
   "outputs": [],
   "source": [
    "\n",
    "for i in piv_x_list : #i 가 행\n",
    "    i = int(i)\n",
    "    if piv == w :\n",
    "        lists = wha[:, i].tolist()\n",
    "        if (not (200 in lists)) or (lists.count(200) == 1) :\n",
    "            continue\n",
    "        \n",
    "        for j in range(h) :\n",
    "            if wha[j, i] == 200 :\n",
    "                side1.append([j, i])\n",
    "                break\n",
    "            \n",
    "        for j in range(h) :    \n",
    "            if wha[h-1-j, i] == 200 :\n",
    "                side2.append([h-1-j, i])\n",
    "                break\n",
    "        \n",
    "        \n",
    "        \n",
    "    else :\n",
    "        lists = wha[i, :].tolist()\n",
    "        if (not (200 in lists)) or (lists.count(200) == 1):\n",
    "            continue\n",
    "        \n",
    "        for j in range(w) :\n",
    "            if wha[i, j] == 200 :\n",
    "                side1.append([i, j])\n",
    "                break\n",
    "        for j in range(w) :\n",
    "            if wha[i, w-1-j] == 200 :\n",
    "                side2.append([i, w-1-j])\n",
    "                break\n"
=======
   "execution_count": 9,
   "metadata": {},
   "outputs": [
    {
     "name": "stdout",
     "output_type": "stream",
     "text": [
      "processing frame number: 0.0\n",
      "time to capture video frame = 0.07396697998046875\n",
      "bot detect 2 lines detected\n",
      "top detect 2 lines detected\n"
     ]
    }
   ],
   "source": [
    "\n",
    "\n",
    "\n",
    "with tf.Session(graph=detection_graph) as sess:\n",
    "    with detection_graph.as_default():\n",
    "        time_loop = time.time()\n",
    "        print('processing frame number: ' + str(cap.get(1)))\n",
    "        time_captureframe = time.time()\n",
    "        ret, image_np = cap.read()\n",
    "        print(\"time to capture video frame = \" + str(time.time() - time_captureframe))\n",
    "        \n",
    "        #image cut part=========================================\n",
    "  #            output_dict = co.run_inference_for_single_image(image_np, detection_graph)\n",
    "                        # Read frame from camera\n",
    "        # Expand dimensions since the model expects images to have shape: [1, None, None, 3]\n",
    "        image_np_expanded = np.expand_dims(image_np, axis=0)\n",
    "        # Extract image tensor\n",
    "        image_tensor = detection_graph.get_tensor_by_name('image_tensor:0')\n",
    "        # Extract detection boxes\n",
    "        boxes = detection_graph.get_tensor_by_name('detection_boxes:0')\n",
    "        # Extract detection scores\n",
    "        scores = detection_graph.get_tensor_by_name('detection_scores:0')\n",
    "        # Extract detection classes\n",
    "        classes = detection_graph.get_tensor_by_name('detection_classes:0')\n",
    "        # Extract number of detections\n",
    "        # Actual detection.\n",
    "            \n",
    "        (boxes, scores, classes) = sess.run(\n",
    "            [boxes, scores, classes],\n",
    "            feed_dict={image_tensor: image_np_expanded})\n",
    "        output_dict = {'detection_boxes' : np.resize(boxes, (boxes.shape[1], boxes.shape[2])),\n",
    "                        'detection_scores' : np.resize(scores, (scores.shape[1])),\n",
    "                        'detection_classes' : np.resize(classes, classes.shape[1])}    \n",
    "                \n",
    "                \n",
    "                \n",
    "                \n",
    "        cordinates = co.class_cordinate(output_dict)\n",
    "        img_height, img_width, img_channel = image_np.shape\n",
    "        absolute_coord = []\n",
    "                \n",
    "        for i in cordinates.keys() :\n",
    "            ymin, xmin, ymax, xmax = cordinates[i]\n",
    "            x_up = int(xmin*img_width)\n",
    "            y_up = int(ymin*img_height)\n",
    "            x_down = int(xmax*img_width)\n",
    "            y_down = int(ymax*img_height)\n",
    "            absolute_coord.append([x_up,y_up,x_down,y_down])\n",
    "                \n",
    "        bounding_box_img = []\n",
    "        c = absolute_coord[0]\n",
    "        bounding_box_img = image_np[c[1]:c[3], c[0]:c[2],:]\n",
    "    \n",
    "    \n",
    "        red = [(absolute_coord[1][0]+absolute_coord[1][2])//2 - c[0], (absolute_coord[1][1]+absolute_coord[1][3])//2 - c[1]]\n",
    "        white = [(absolute_coord[2][0]+absolute_coord[2][2])//2 - c[0], (absolute_coord[2][1]+absolute_coord[2][3])//2 - c[1]]\n",
    "        yellow = [(absolute_coord[3][0]+absolute_coord[3][2])//2 - c[0], (absolute_coord[3][1]+absolute_coord[3][3])//2 - c[1]]\n",
    "    \n",
    "        \n",
    "        points = [white, red, yellow]\n",
    "    \n",
    "        result_dict = {'image_np' : bounding_box_img,\n",
    "                               'points' : points}\n",
    "        \n",
    "        \n",
    "        #======================================================\n",
    "                \n",
    "        image_np = result_dict['image_np']\n",
    "        points = result_dict['points']\n",
    "#              if i == 0 :\n",
    "        #cordinate part=======================================\n",
    "        result = np.array(ed.cord_edge(image_np))\n",
    "        result = po.point_order(result)\n",
    "        #=====================================================\n",
    "                \n",
    "        '''\n",
    "        all_points = [(result[0][1], result[0][0]),\n",
    "                    (result[2][1], result[2][0]),\n",
    "                    (result[1][1], result[1][0]),\n",
    "                    (result[3][1], result[3][0])]\n",
    "                \n",
    "                    \n",
    "#                print('all_points : ', all_points)\n",
    "                \n",
    "        balls = [(points[0][0], points[0][1]),\n",
    "                    (points[1][0], points[1][1]),\n",
    "                    (points[2][0], points[2][1])]\n",
    "                \n",
    "                \n",
    "                \n",
    "        print('edge points : ', all_points)\n",
    "        print('balls : ', balls)\n",
    "        print('input : ', all_points+balls)\n",
    "                \n",
    "                \n",
    " #      print('ball detect num : ', len(balls))\n",
    "        final_image = iw.warp(all_points+balls)\n",
    "                \n",
    "        cv2.imwrite('./vimages/img'+str(int(cap.get(1)))+'.jpg', final_image)\n",
    "              \n",
    "        print('final_image shape : ', final_image.shape)\n",
    "        time_writeframe = time.time()\n",
    "        VideoFileOutput.write(final_image)\n",
    "        print(\"time to write a frame in video file = \" + str(time.time() - time_writeframe))\n",
    "\n",
    "        print(\"total time in the loop = \" + str(time.time() - time_loop))\n",
    "                \n",
    "        '''"
>>>>>>> 4d98d3155f3898766a74db6c65cd60c52c433930
   ]
  },
  {
   "cell_type": "code",
<<<<<<< HEAD
   "execution_count": 5,
=======
   "execution_count": 11,
   "metadata": {},
   "outputs": [
    {
     "data": {
      "text/plain": [
       "[[17, 159, 1883, 778],\n",
       " [120, 250, 156, 283],\n",
       " [146, 233, 184, 275],\n",
       " [151, 234, 184, 274]]"
      ]
     },
     "execution_count": 11,
     "metadata": {},
     "output_type": "execute_result"
    }
   ],
   "source": [
    "absolute_coord"
   ]
  },
  {
   "cell_type": "code",
   "execution_count": 7,
>>>>>>> 4d98d3155f3898766a74db6c65cd60c52c433930
   "metadata": {},
   "outputs": [],
   "source": [
    "\n",
<<<<<<< HEAD
    "s1 = []\n",
    "s2 = []\n",
    "s3 = []\n",
    "s4 = []\n",
    "\n",
    "def getcos(combination_list) :\n",
    "    v1 = combination_list[1] - combination_list[0]\n",
    "    v2 = combination_list[2] - combination_list[0]\n",
    "    cos = np.dot(v1, v2) / (np.linalg.norm(v1, ord=2)*np.linalg.norm(v2, ord=2))\n",
    "    \n",
    "    return abs(cos)\n",
    "\n",
    "\n",
    "for i in range(len(side1)-3) :\n",
    "    if getcos(np.array(side1[i:i+3])) < 0.999 :\n",
    "        s1 += side1[:i]\n",
    "        s2 += side1[i+4:]\n",
    "        break\n",
    "\n",
    "for i in range(len(side1)-3) :\n",
    "    if getcos(np.array(side1[i:i+3])) < 0.999 :\n",
    "        s4 += side2[:i]\n",
    "        s3 += side2[i+4:]\n",
    "        break\n",
    "    \n",
    "\n",
    "def equation(point_list1, point_list2) :\n",
    "    x11 = point_list1[0][0]\n",
    "    y11 = point_list1[0][1]\n",
    "    x12 = point_list1[1][0]\n",
    "    y12 = point_list1[1][1]\n",
    "    \n",
    "    x21 = point_list2[0][0]\n",
    "    y21 = point_list2[0][1]\n",
    "    x22 = point_list2[1][0]\n",
    "    y22 = point_list2[1][1]\n",
    "    \n",
    "    A = np.array([[y12-y11, -x12+x11],\n",
    "                  [y22-y21, -x22+x21]])    \n",
    "    inv_A = lin.inv(A)\n",
    "    X = np.array([x11*y12-x12*y11, x21*y22-x22*y21])\n",
    "    \n",
    "    result = np.dot(inv_A, X.T)\n",
    "    \n",
    "    return result"
=======
    "def write_video():\n",
    "\n",
    "    filename = './faster_rcnn_inception_400000step.avi'\n",
    "#    codec = cv2.VideoWriter_fourcc('W', 'M', 'V', '2')\n",
    "    codec = cv2.VideoWriter_fourcc(*'XVID')\n",
    "    cap = cv2.VideoCapture('./test_video/video3.mp4')\n",
    "    framerate = round(cap.get(5),2)\n",
    "    \n",
    "    #w = int(cap.get(3))\n",
    "    #h = int(cap.get(4))\n",
    "    w, h = 315, 612\n",
    "    resolution = (w, h)\n",
    "\n",
    "    VideoFileOutput = cv2.VideoWriter(filename, codec, framerate, resolution)    \n",
    "\n",
    "    ################################\n",
    "    # # Model preparation \n",
    "\n",
    "    # ## Variables\n",
    "    # \n",
    "    # Any model exported using the `export_inference_graph.py` tool can be loaded here simply by changing `PATH_TO_FROZEN_GRAPH` to point to a new .pb file.  \n",
    "    # \n",
    "\n",
    "\n",
    "    # What model to download.\n",
    "    PATH_TO_FROZEN_GRAPH = './object_detection/fine_tuned_model/frozen_inference_graph.pb'\n",
    "    MODEL_NAME = 'faster_rcnn_inception'\n",
    "    print(\"loading model from \" + MODEL_NAME)\n",
    "\n",
    "\n",
    "    # ## Load a (frozen) Tensorflow model into memory.\n",
    "\n",
    "    time_graph = time.time()\n",
    "    print('loading graphs')\n",
    "    detection_graph = tf.Graph()\n",
    "    with detection_graph.as_default():\n",
    "        od_graph_def = tf.GraphDef()\n",
    "        with tf.gfile.GFile(PATH_TO_FROZEN_GRAPH, 'rb') as fid:\n",
    "            serialized_graph = fid.read()\n",
    "            od_graph_def.ParseFromString(serialized_graph)\n",
    "            tf.import_graph_def(od_graph_def, name='')\n",
    "    print(\"tempo build graph = \" + str(time.time() - time_graph))\n",
    "    \n",
    "    \n",
    "    \n",
    "    \n",
    "\n",
    "    # ## Loading label map\n",
    "\n",
    "\n",
    "    ################################\n",
    "    \n",
    "    \n",
    "    with tf.Session(graph=detection_graph) as sess:\n",
    "        with detection_graph.as_default():\n",
    "            \n",
    "            \n",
    "            \n",
    "            while (cap.isOpened()):\n",
    "                \n",
    "                \n",
    "                time_loop = time.time()\n",
    "                print('processing frame number: ' + str(cap.get(1)))\n",
    "                time_captureframe = time.time()\n",
    "                ret, image_np = cap.read()\n",
    "                print(\"time to capture video frame = \" + str(time.time() - time_captureframe))\n",
    "                if (ret != True):\n",
    "                    break\n",
    "                #image cut part=========================================\n",
    "  #              output_dict = co.run_inference_for_single_image(image_np, detection_graph)\n",
    "                        # Read frame from camera\n",
    "                # Expand dimensions since the model expects images to have shape: [1, None, None, 3]\n",
    "                image_np_expanded = np.expand_dims(image_np, axis=0)\n",
    "                # Extract image tensor\n",
    "                image_tensor = detection_graph.get_tensor_by_name('image_tensor:0')\n",
    "                # Extract detection boxes\n",
    "                boxes = detection_graph.get_tensor_by_name('detection_boxes:0')\n",
    "                # Extract detection scores\n",
    "                scores = detection_graph.get_tensor_by_name('detection_scores:0')\n",
    "                # Extract detection classes\n",
    "                classes = detection_graph.get_tensor_by_name('detection_classes:0')\n",
    "                # Extract number of detections\n",
    "                # Actual detection.\n",
    "            \n",
    "                (boxes, scores, classes) = sess.run(\n",
    "                    [boxes, scores, classes],\n",
    "                    feed_dict={image_tensor: image_np_expanded})\n",
    "                output_dict = {'detection_boxes' : np.resize(boxes, (boxes.shape[1], boxes.shape[2])),\n",
    "                               'detection_scores' : np.resize(scores, (scores.shape[1])),\n",
    "                               'detection_classes' : np.resize(classes, classes.shape[1])}    \n",
    "                \n",
    "                \n",
    "                \n",
    "                \n",
    "                cordinates = co.class_cordinate(output_dict)\n",
    "                img_height, img_width, img_channel = image_np.shape\n",
    "                absolute_coord = []\n",
    "                \n",
    "                for i in cordinates.keys() :\n",
    "                    ymin, xmin, ymax, xmax = cordinates[i]\n",
    "                    x_up = int(xmin*img_width)\n",
    "                    y_up = int(ymin*img_height)\n",
    "                    x_down = int(xmax*img_width)\n",
    "                    y_down = int(ymax*img_height)\n",
    "                    absolute_coord.append([x_up,y_up,x_down,y_down])\n",
    "                \n",
    "                bounding_box_img = []\n",
    "                c = absolute_coord[0]\n",
    "                bounding_box_img = image_np[c[1]:c[3], c[0]:c[2],:]\n",
    "    \n",
    "    \n",
    "                red = [(absolute_coord[1][0]+absolute_coord[1][2]) - c[0], (absolute_coord[1][1]+absolute_coord[1][3]) - c[1]]\n",
    "                white = [(absolute_coord[2][0]+absolute_coord[2][2]) - c[0], (absolute_coord[2][1]+absolute_coord[2][3]) - c[1]]\n",
    "                yellow = [(absolute_coord[3][0]+absolute_coord[3][2]) - c[0], (absolute_coord[3][1]+absolute_coord[3][3]) - c[1]]\n",
    "    \n",
    "        \n",
    "                points = [white, red, yellow]\n",
    "    \n",
    "                result_dict = {'image_np' : bounding_box_img,\n",
    "                               'points' : points}\n",
    "                #======================================================\n",
    "                \n",
    "                image_np = result_dict['image_np']\n",
    "                points = result_dict['points']\n",
    "#                if i == 0 :\n",
    "                #cordinate part=======================================\n",
    "                result = np.array(ed.cord_edge(image_np))\n",
    "                result = po.point_order(result)\n",
    "                #=====================================================\n",
    "                \n",
    "                \n",
    "                all_points = [(result[0][1], result[0][0]),\n",
    "                              (result[2][1], result[2][0]),\n",
    "                              (result[1][1], result[1][0]),\n",
    "                              (result[3][1], result[3][0])]\n",
    "                \n",
    "                    \n",
    "#                print('all_points : ', all_points)\n",
    "                \n",
    "                balls = [(points[0][0], points[0][1]),\n",
    "                         (points[1][0], points[1][1]),\n",
    "                         (points[2][0], points[2][1])]\n",
    "                \n",
    "                \n",
    "                \n",
    "                print('edge points : ', all_points)\n",
    "                print('balls : ', balls)\n",
    "                print('input : ', all_points+balls)\n",
    "                \n",
    "                \n",
    " #               print('ball detect num : ', len(balls))\n",
    "                final_image = iw.warp(all_points+balls)\n",
    "                \n",
    "                cv2.imwrite('./vimages/img'+str(int(cap.get(1)))+'.jpg', final_image)\n",
    "              \n",
    "                print('final_image shape : ', final_image.shape)\n",
    "                time_writeframe = time.time()\n",
    "                VideoFileOutput.write(final_image)\n",
    "                print(\"time to write a frame in video file = \" + str(time.time() - time_writeframe))\n",
    "\n",
    "                print(\"total time in the loop = \" + str(time.time() - time_loop))\n",
    "                \n",
    "\n",
    "    cap.release()\n",
    "    VideoFileOutput.release()\n",
    "    print('done')"
>>>>>>> 4d98d3155f3898766a74db6c65cd60c52c433930
   ]
  },
  {
   "cell_type": "code",
<<<<<<< HEAD
   "execution_count": 6,
   "metadata": {},
   "outputs": [],
   "source": [
    "\n",
    "    \n",
    "p1 = equation(s1, s2)\n",
    "p2 = equation(s2, s3)\n",
    "p3 = equation(s3, s4)\n",
    "p4 = equation(s4, s1)"
=======
   "execution_count": 8,
   "metadata": {},
   "outputs": [
    {
     "name": "stdout",
     "output_type": "stream",
     "text": [
      "loading model from faster_rcnn_inception\n",
      "loading graphs\n",
      "tempo build graph = 0.8335051536560059\n",
      "processing frame number: 0.0\n",
      "time to capture video frame = 0.00645899772644043\n",
      "bot detect 2 lines detected\n",
      "top detect 2 lines detected\n",
      "pl1 :  [[9, 25], [15, 31], [21, 37], [27, 43], [37, 50], [45, 56], [53, 62], [59, 69], [67, 75], [73, 81], [79, 87], [89, 94], [95, 100], [99, 106], [109, 112], [115, 119], [121, 125], [131, 131], [137, 138], [145, 144], [153, 150], [159, 156], [165, 163]]\n",
      "pl2 :  []\n",
      "pl1 :  []\n",
      "pl2 :  [[382, 0], [382, 6]]\n"
     ]
    },
    {
     "ename": "TypeError",
     "evalue": "unsupported operand type(s) for -: 'NoneType' and 'float'",
     "output_type": "error",
     "traceback": [
      "\u001b[0;31m---------------------------------------------------------------------------\u001b[0m",
      "\u001b[0;31mTypeError\u001b[0m                                 Traceback (most recent call last)",
      "\u001b[0;32m<ipython-input-8-95829dbc6916>\u001b[0m in \u001b[0;36m<module>\u001b[0;34m\u001b[0m\n\u001b[0;32m----> 1\u001b[0;31m \u001b[0mwrite_video\u001b[0m\u001b[0;34m(\u001b[0m\u001b[0;34m)\u001b[0m\u001b[0;34m\u001b[0m\u001b[0;34m\u001b[0m\u001b[0m\n\u001b[0m",
      "\u001b[0;32m<ipython-input-7-c8a65c514a27>\u001b[0m in \u001b[0;36mwrite_video\u001b[0;34m()\u001b[0m\n\u001b[1;32m    126\u001b[0m                 \u001b[0;31m#cordinate part=======================================\u001b[0m\u001b[0;34m\u001b[0m\u001b[0;34m\u001b[0m\u001b[0;34m\u001b[0m\u001b[0m\n\u001b[1;32m    127\u001b[0m                 \u001b[0mresult\u001b[0m \u001b[0;34m=\u001b[0m \u001b[0mnp\u001b[0m\u001b[0;34m.\u001b[0m\u001b[0marray\u001b[0m\u001b[0;34m(\u001b[0m\u001b[0med\u001b[0m\u001b[0;34m.\u001b[0m\u001b[0mcord_edge\u001b[0m\u001b[0;34m(\u001b[0m\u001b[0mimage_np\u001b[0m\u001b[0;34m)\u001b[0m\u001b[0;34m)\u001b[0m\u001b[0;34m\u001b[0m\u001b[0;34m\u001b[0m\u001b[0m\n\u001b[0;32m--> 128\u001b[0;31m                 \u001b[0mresult\u001b[0m \u001b[0;34m=\u001b[0m \u001b[0mpo\u001b[0m\u001b[0;34m.\u001b[0m\u001b[0mpoint_order\u001b[0m\u001b[0;34m(\u001b[0m\u001b[0mresult\u001b[0m\u001b[0;34m)\u001b[0m\u001b[0;34m\u001b[0m\u001b[0;34m\u001b[0m\u001b[0m\n\u001b[0m\u001b[1;32m    129\u001b[0m                 \u001b[0;31m#=====================================================\u001b[0m\u001b[0;34m\u001b[0m\u001b[0;34m\u001b[0m\u001b[0;34m\u001b[0m\u001b[0m\n\u001b[1;32m    130\u001b[0m \u001b[0;34m\u001b[0m\u001b[0m\n",
      "\u001b[0;32m~/capstone/cordinate/point_order.py\u001b[0m in \u001b[0;36mpoint_order\u001b[0;34m(point_list)\u001b[0m\n\u001b[1;32m     15\u001b[0m     \u001b[0;31m#p1을 기준으로\u001b[0m\u001b[0;34m\u001b[0m\u001b[0;34m\u001b[0m\u001b[0;34m\u001b[0m\u001b[0m\n\u001b[1;32m     16\u001b[0m     \u001b[0mA1\u001b[0m \u001b[0;34m=\u001b[0m \u001b[0mp2\u001b[0m \u001b[0;34m-\u001b[0m \u001b[0mp1\u001b[0m\u001b[0;34m\u001b[0m\u001b[0;34m\u001b[0m\u001b[0m\n\u001b[0;32m---> 17\u001b[0;31m     \u001b[0mA2\u001b[0m \u001b[0;34m=\u001b[0m \u001b[0mp3\u001b[0m \u001b[0;34m-\u001b[0m \u001b[0mp1\u001b[0m\u001b[0;34m\u001b[0m\u001b[0;34m\u001b[0m\u001b[0m\n\u001b[0m\u001b[1;32m     18\u001b[0m     \u001b[0mA3\u001b[0m \u001b[0;34m=\u001b[0m \u001b[0mp4\u001b[0m \u001b[0;34m-\u001b[0m \u001b[0mp1\u001b[0m\u001b[0;34m\u001b[0m\u001b[0;34m\u001b[0m\u001b[0m\n\u001b[1;32m     19\u001b[0m \u001b[0;34m\u001b[0m\u001b[0m\n",
      "\u001b[0;31mTypeError\u001b[0m: unsupported operand type(s) for -: 'NoneType' and 'float'"
     ]
    }
   ],
   "source": [
    "write_video()"
   ]
  },
  {
   "cell_type": "code",
   "execution_count": 4,
   "metadata": {},
   "outputs": [
    {
     "data": {
      "text/plain": [
       "array([[ 34.63636364,   9.54545455],\n",
       "       [185.93167702, 406.69565217],\n",
       "       [  5.34883721, 214.55813953],\n",
       "       [ 56.29770992, 588.18320611]])"
      ]
     },
     "execution_count": 4,
     "metadata": {},
     "output_type": "execute_result"
    }
   ],
   "source": [
    "result"
   ]
  },
  {
   "cell_type": "code",
   "execution_count": 4,
   "metadata": {},
   "outputs": [],
   "source": [
    "ims = result_dict['image_np']"
>>>>>>> 4d98d3155f3898766a74db6c65cd60c52c433930
   ]
  },
  {
   "cell_type": "code",
<<<<<<< HEAD
   "execution_count": 7,
   "metadata": {},
   "outputs": [],
   "source": [
    "\n",
    "\n",
    "\n",
    "point_list = [p1, p2, p3, p4]"
=======
   "execution_count": 5,
   "metadata": {},
   "outputs": [],
   "source": [
    "from PIL import Image\n",
    "\n",
    "img = Image.fromarray(ims, 'RGB')\n",
    "img.show()"
>>>>>>> 4d98d3155f3898766a74db6c65cd60c52c433930
   ]
  },
  {
   "cell_type": "code",
<<<<<<< HEAD
   "execution_count": 8,
   "metadata": {},
   "outputs": [
    {
     "data": {
      "image/png": "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\n",
      "text/plain": [
       "<Figure size 432x288 with 1 Axes>"
      ]
     },
     "metadata": {
      "needs_background": "light"
     },
     "output_type": "display_data"
    }
   ],
   "source": [
    "\n",
    "import matplotlib.pyplot as plt\n",
    "x=[]\n",
    "y=[]\n",
    "for i in side1 :\n",
    "    x.append(i[1])\n",
    "    y.append(i[0])\n",
    "\n",
    "\n",
    "plt.plot(x, y, 'ro')\n",
    "plt.show()"
=======
   "execution_count": 6,
   "metadata": {},
   "outputs": [
    {
     "name": "stdout",
     "output_type": "stream",
     "text": [
      "2 lines detected\n",
      "bot detect 2 lines detected\n",
      "top detect "
     ]
    },
    {
     "data": {
      "text/plain": [
       "[array([185.93167702, 406.69565217]),\n",
       " array([ 56.29770992, 588.18320611]),\n",
       " array([  5.34883721, 214.55813953]),\n",
       " array([34.63636364,  9.54545455])]"
      ]
     },
     "execution_count": 6,
     "metadata": {},
     "output_type": "execute_result"
    }
   ],
   "source": [
    "import cordinate.edge_detect2 as ed\n",
    "ed.cord_edge(ims)"
   ]
  },
  {
   "cell_type": "code",
   "execution_count": 7,
   "metadata": {},
   "outputs": [],
   "source": [
    "    \n",
    "image_np = result_dict['image_np']\n",
    "\n",
    "\n",
    "\n",
    "h, w = image_np[:,:,0].shape\n",
    "    \n",
    "if (h > 1000) or (w > 1000) :\n",
    "    h, w = int(h/3), int(w/3)\n",
    "    image_np = cv2.resize(image_np, dsize=(w, h), interpolation=cv2.INTER_AREA)\n",
    "\n",
    "no_background = np.zeros((h, w))\n",
    "\n",
    "for i in range(h) :\n",
    "    for j in range(w) :\n",
    "        if (image_np[i,j,0] > image_np[i,j,1]) and (image_np[i,j,1] > image_np[i,j,2] and (image_np[i,j,0] -image_np[i, j, 1] > 70)) and (image_np[i,j,2]<170):\n",
    "            no_background[i, j] = image_np[i, j, 0]\n",
    "\n",
    "        \n",
    "   \n",
    "\n",
    "for i in range(h) :\n",
    "    for j in range(w) :\n",
    "        if no_background[i, j] != 0 :\n",
    "            no_background[i, j] = 200"
>>>>>>> 4d98d3155f3898766a74db6c65cd60c52c433930
   ]
  },
  {
   "cell_type": "code",
<<<<<<< HEAD
   "execution_count": 9,
=======
   "execution_count": 23,
>>>>>>> 4d98d3155f3898766a74db6c65cd60c52c433930
   "metadata": {},
   "outputs": [
    {
     "data": {
<<<<<<< HEAD
      "image/png": "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\n",
      "text/plain": [
       "<Figure size 432x288 with 1 Axes>"
=======
      "image/png": "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\n",
      "text/plain": [
       "<Figure size 864x720 with 1 Axes>"
>>>>>>> 4d98d3155f3898766a74db6c65cd60c52c433930
      ]
     },
     "metadata": {
      "needs_background": "light"
     },
     "output_type": "display_data"
    }
   ],
   "source": [
<<<<<<< HEAD
    "for i in side2 :\n",
    "    x.append(i[1])\n",
    "    y.append(i[0])\n",
    "\n",
    "\n",
    "plt.plot(x, y, 'ro')\n",
=======
    "image_np = image_np[:,180:,:]\n",
    "\n",
    "min_ = 0\n",
    "max_ = image_np.shape[0]\n",
    "\n",
    "b = []\n",
    "r = []\n",
    "g = []\n",
    "x = np.arange(min_, max_)\n",
    "for i in range(max_) :\n",
    "    b.append(image_np[i, i, 0])\n",
    "    r.append(image_np[i, i, 1])\n",
    "    g.append(image_np[i, i, 2])\n",
    "    \n",
    "    \n",
    "import matplotlib.pyplot as plt\n",
    "plt.figure(figsize=(12, 10))\n",
    "plt.plot(x, b, label = 'b')\n",
    "plt.plot(x, r, label = 'r')\n",
    "plt.plot(x, g, label = 'g')\n",
    "plt.legend(loc='upper left')\n",
>>>>>>> 4d98d3155f3898766a74db6c65cd60c52c433930
    "plt.show()"
   ]
  },
  {
   "cell_type": "code",
<<<<<<< HEAD
   "execution_count": null,
   "metadata": {},
   "outputs": [],
   "source": []
=======
   "execution_count": 22,
   "metadata": {},
   "outputs": [],
   "source": [
    "cv2.imshow('image', image_np)\n",
    "cv2.waitKey(0)\n",
    "cv2.destroyAllWindows()"
   ]
  },
  {
   "cell_type": "code",
   "execution_count": null,
   "metadata": {},
   "outputs": [],
   "source": [
    "\n",
    "cap.release()\n",
    "VideoFileOutput.release()\n",
    "print('done')\n",
    "    \n",
    "write_video()"
   ]
  },
  {
   "cell_type": "code",
   "execution_count": 14,
   "metadata": {},
   "outputs": [
    {
     "name": "stdout",
     "output_type": "stream",
     "text": [
      "i : 10\n",
      "a : 10\n"
     ]
    }
   ],
   "source": [
    "i = 0\n",
    "a = 0\n",
    "\n",
    "with tf.Session(graph=detection_graph) as sess:\n",
    "    with detection_graph.as_default(): \n",
    "        while (True) :\n",
    "            i += 1\n",
    "            \n",
    "            if i == 10 :\n",
    "                print('i :', i)\n",
    "                a = i\n",
    "                print('a :', a)\n",
    "                break"
   ]
>>>>>>> 4d98d3155f3898766a74db6c65cd60c52c433930
  },
  {
   "cell_type": "code",
   "execution_count": null,
   "metadata": {},
   "outputs": [],
   "source": []
  }
 ],
 "metadata": {
  "kernelspec": {
   "display_name": "Python 3",
   "language": "python",
   "name": "python3"
  },
  "language_info": {
   "codemirror_mode": {
    "name": "ipython",
    "version": 3
   },
   "file_extension": ".py",
   "mimetype": "text/x-python",
   "name": "python",
   "nbconvert_exporter": "python",
   "pygments_lexer": "ipython3",
   "version": "3.7.6"
  }
 },
 "nbformat": 4,
 "nbformat_minor": 4
}
