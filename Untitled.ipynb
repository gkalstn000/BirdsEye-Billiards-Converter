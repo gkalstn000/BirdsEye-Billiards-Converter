{
 "cells": [
  {
   "cell_type": "code",
   "execution_count": 2,
   "metadata": {},
   "outputs": [],
   "source": [
    "import numpy as np\n",
    "import sys\n",
    "import os\n",
    "import tensorflow.compat.v1 as tf\n",
    "import cv2\n",
    "from PIL import Image\n",
    "\n",
    "import object_detection.obj_cut as oc\n",
    "\n",
    "image_path = '/Users/gkalstn/capstone/test_images/img137.jpg'"
   ]
  },
  {
   "cell_type": "code",
   "execution_count": 3,
   "metadata": {},
   "outputs": [
    {
     "name": "stdout",
     "output_type": "stream",
     "text": [
      "time : 2.4324228763580322\n"
     ]
    }
   ],
   "source": [
    "import time\n",
    "start = time.time()  # 시작 시간 저장\n",
    "image_np = oc.single_image_cut(image_path)\n",
    "print(\"time :\", time.time() - start)  # 현재시각 - 시작시간 = 실행 시간"
   ]
  },
  {
   "cell_type": "code",
   "execution_count": 4,
   "metadata": {},
   "outputs": [],
   "source": [
    "MODEL_NAME = 'ssd_mobilenet_v2'\n",
    "PATH_TO_TEST_IMAGES_DIR = '/Users/gkalstn/capstone/test_images'\n",
    "TEST_IMAGE_PATHS = [os.path.join(PATH_TO_TEST_IMAGES_DIR, img) for img in os.listdir(PATH_TO_TEST_IMAGES_DIR)]\n",
    "TEST_SAVE_PATH = 'test_result/{}'.format(MODEL_NAME)"
   ]
  },
  {
   "cell_type": "code",
   "execution_count": 5,
   "metadata": {},
   "outputs": [
    {
     "name": "stdout",
     "output_type": "stream",
     "text": [
      "3.7.6 (default, Jan  8 2020, 13:42:34) \n",
      "[Clang 4.0.1 (tags/RELEASE_401/final)]\n"
     ]
    }
   ],
   "source": [
    "import cordinate.Billiards_Detect_test as bd\n",
    "import math\n",
    "import matplotlib.pyplot as plt"
   ]
  },
  {
   "cell_type": "code",
   "execution_count": 6,
   "metadata": {},
   "outputs": [
    {
     "name": "stdout",
     "output_type": "stream",
     "text": [
      "[[  1 167]\n",
      " [158 451]\n",
      " [  1 159]\n",
      " [164 442]\n",
      " [160 451]\n",
      " [278 160]\n",
      " [  1 156]\n",
      " [159 430]\n",
      " [  2 150]\n",
      " [167 414]\n",
      " [ 77   1]\n",
      " [278  90]]\n",
      "time : 0.03422999382019043\n"
     ]
    }
   ],
   "source": [
    "import time\n",
    "start = time.time()  # 시작 시간 저장\n",
    "result = bd.Detecting(image_np)\n",
    "print(\"time :\", time.time() - start)  # 현재시각 - 시작시간 = 실행 시간"
   ]
  },
  {
   "cell_type": "code",
   "execution_count": 7,
   "metadata": {},
   "outputs": [],
   "source": [
    "result.append([225, 137])\n",
    "result.append([322, 87])\n",
    "result.append([539, 141])"
   ]
  },
  {
   "cell_type": "code",
   "execution_count": 8,
   "metadata": {},
   "outputs": [
    {
     "data": {
      "text/plain": [
       "[[77, 1], [158, 451], [1, 167], [278, 160], [225, 137], [322, 87], [539, 141]]"
      ]
     },
     "execution_count": 8,
     "metadata": {},
     "output_type": "execute_result"
    }
   ],
   "source": [
    "result"
   ]
  },
  {
   "cell_type": "code",
   "execution_count": 8,
   "metadata": {},
   "outputs": [
    {
     "data": {
      "text/plain": [
       "(198, 783, 3)"
      ]
     },
     "execution_count": 8,
     "metadata": {},
     "output_type": "execute_result"
    }
   ],
   "source": [
    "image_np.shape"
   ]
  },
  {
   "cell_type": "code",
   "execution_count": 9,
   "metadata": {},
   "outputs": [],
   "source": [
    "cvt_img = cv2.cvtColor(image_np, cv2.COLOR_BGR2RGB)\n",
    "resize_img = cv2.resize(cvt_img, (500, 500))"
   ]
  },
  {
   "cell_type": "code",
   "execution_count": 10,
   "metadata": {},
   "outputs": [],
   "source": [
    "total_7_list = result"
   ]
  },
  {
   "cell_type": "code",
   "execution_count": 11,
   "metadata": {},
   "outputs": [
    {
     "name": "stdout",
     "output_type": "stream",
     "text": [
      "pts1 :  [[329.   5.]\n",
      " [238. 196.]\n",
      " [ 14.  14.]\n",
      " [782. 138.]]\n",
      "pts2 :  [[  0.   0.]\n",
      " [612.   0.]\n",
      " [  0. 315.]\n",
      " [612. 315.]]\n"
     ]
    }
   ],
   "source": [
    "mylist = []\n",
    "for i in total_7_list:\n",
    "    mylist.append(tuple(i))\n",
    "\n",
    "point_list = mylist[0:4]   # 당구대 좌표 배열\n",
    "point_list2 = mylist[4:7]    # 공 좌표 배열\n",
    "\n",
    "    ##### 한글인식 못함, 에러발생 '빈다이' -> base, '위치2-1' -> test #####\n",
    "img_original = image_np # test.jpg 파일을 img_original 변수에 저장\n",
    "img_original2 = cv2.imread('base.png') # test3.jpg 파일을 img_original 변수에 저장\n",
    "img_original2 = cv2.resize(img_original2, dsize=(650, 344), interpolation=cv2.INTER_AREA)\n",
    "    \n",
    "\n",
    "    #(B,G,R)\n",
    "cv2.circle(img_original, (point_list2[0]), 2, (255, 255, 255), -1) # R -> W\n",
    "cv2.circle(img_original, (point_list2[1]), 2, (0, 0, 255), -1) # B -> R\n",
    "cv2.circle(img_original, (point_list2[2]), 2, (0, 255, 255), -1) # G -> Y\n",
    "\n",
    "height, width = 315, 612 # return 되는 이미지의 크기 값\n",
    "\n",
    "    # 좌표 순서 - 상단왼쪽 끝, 상단오른쪽 끝, 하단왼쪽 끝, 하단오른쪽 끝\n",
    "pts1 = np.float32([list(point_list[0]),list(point_list[1]),list(point_list[2]),list(point_list[3])])\n",
    "pts2 = np.float32([[0,0],[width,0],[0,height],[width,height]])\n",
    "\n",
    "print('pts1 : ',pts1)\n",
    "print('pts2 : ',pts2)\n",
    "\n",
    "M = cv2.getPerspectiveTransform(pts1,pts2)      # pts1의 좌표를 pts2의 좌표로 변환 시킬 변수 M 설정\n",
    "a = 1\n",
    "b = 2\n",
    "\n",
    "img_result = cv2.warpPerspective(img_original, M, (width,height))      # 이미지 와핑\n",
    "img_result2 = img_original2\n",
    "\n",
    "white=0     # white볼을 둘 공간을 찾았을 때 조건문을 돌리지 않기 위한 변수 R -> W\n",
    "red=0     # red볼을 둘 공간을 찾았을 때 조건문을 돌리지 않기 위한 변수 B -> R\n",
    "yellow=0     # yellow볼을 둘 공간을 찾았을 때 조건문을 돌리지 않기 위한 변수 G -> Y\n"
   ]
  },
  {
   "cell_type": "code",
   "execution_count": 12,
   "metadata": {},
   "outputs": [
    {
     "data": {
      "text/plain": [
       "array([[[ 29,  32,  38],\n",
       "        [ 25,  29,  37],\n",
       "        [ 22,  27,  36],\n",
       "        ...,\n",
       "        [ 99, 102, 118],\n",
       "        [101, 104, 120],\n",
       "        [ 82,  86, 102]],\n",
       "\n",
       "       [[ 32,  35,  44],\n",
       "        [ 25,  29,  41],\n",
       "        [ 21,  25,  38],\n",
       "        ...,\n",
       "        [110, 113, 133],\n",
       "        [ 85,  87, 106],\n",
       "        [ 78,  81,  99]],\n",
       "\n",
       "       [[ 34,  37,  49],\n",
       "        [ 30,  33,  49],\n",
       "        [ 27,  30,  48],\n",
       "        ...,\n",
       "        [ 67,  70,  93],\n",
       "        [ 71,  73,  94],\n",
       "        [ 86,  88, 107]],\n",
       "\n",
       "       ...,\n",
       "\n",
       "       [[ 48,  56,  80],\n",
       "        [ 63,  68,  96],\n",
       "        [ 66,  71,  99],\n",
       "        ...,\n",
       "        [ 90,  96, 119],\n",
       "        [ 94,  99, 120],\n",
       "        [ 96, 102, 121]],\n",
       "\n",
       "       [[ 43,  50,  73],\n",
       "        [ 53,  58,  84],\n",
       "        [ 65,  69,  96],\n",
       "        ...,\n",
       "        [ 72,  77,  98],\n",
       "        [ 73,  78,  98],\n",
       "        [ 77,  82, 100]],\n",
       "\n",
       "       [[ 37,  43,  65],\n",
       "        [ 41,  45,  69],\n",
       "        [ 49,  52,  77],\n",
       "        ...,\n",
       "        [ 53,  58,  77],\n",
       "        [ 51,  57,  75],\n",
       "        [ 49,  54,  71]]], dtype=uint8)"
      ]
     },
     "execution_count": 12,
     "metadata": {},
     "output_type": "execute_result"
    }
   ],
   "source": [
    "img_result2"
   ]
  },
  {
   "cell_type": "code",
   "execution_count": 13,
   "metadata": {},
   "outputs": [
    {
     "name": "stdout",
     "output_type": "stream",
     "text": [
      "<white>\n",
      "y, x : 187 ,  591\n",
      "\n",
      "ok I know where they are\n"
     ]
    }
   ],
   "source": [
    "for y in range(15,300):\n",
    "    for x in range(15,610):\n",
    "        if img_result[y,x][0] == 255 and img_result[y,x][1] == 255 and img_result[y,x][2] == 255 and white == 0:\n",
    "            img_result2 = cv2.circle(img_result2, (x+25,y+14),7,(255,255,255),-1)       # 해당 좌표값에 공 그리기\n",
    "            white = white + 1\n",
    "            print('<white>\\ny, x :',y,', ',x)\n",
    "        elif img_result[y,x][0] == 0 and img_result[y,x][1] == 255 and img_result[y,x][2] == 255 and yellow == 0:\n",
    "            img_result2 = cv2.circle(img_result2, (x+25,y+14),7,(0,255,255),-1)\n",
    "            yellow = yellow + 1\n",
    "            print('<yellow>\\ny, x :',y,', ',x)\n",
    "        elif img_result[y,x][0] == 0 and img_result[y,x][1] == 0 and img_result[y,x][2] == 255 and red == 0:\n",
    "            img_result2 = cv2.circle(img_result2, (x+25,y+14),7,(0,0,255),-1)\n",
    "            red = red + 1\n",
    "            print('<red>\\ny, x :',y,', ',x)\n",
    "        if white == 1 and red == 1 and yellow == 1:\n",
    "            k=1\n",
    "            break\n",
    "    if white == 1 and red == 1 and yellow == 1:\n",
    "        break\n",
    "\n",
    "\n",
    "print('\\nok I know where they are')\n"
   ]
  },
  {
   "cell_type": "code",
   "execution_count": 14,
   "metadata": {},
   "outputs": [
    {
     "data": {
      "text/plain": [
       "numpy.ndarray"
      ]
     },
     "execution_count": 14,
     "metadata": {},
     "output_type": "execute_result"
    }
   ],
   "source": [
    "type(img_result2)"
   ]
  },
  {
   "cell_type": "code",
   "execution_count": null,
   "metadata": {},
   "outputs": [],
   "source": [
    "cvt_img = cv2.cvtColor(img_original, cv2.COLOR_BGR2RGB)\n",
    "cv2.imshow('original', cvt_img)\n",
    "cv2.imshow(\"result2\", img_result2)\n",
    "cv2.waitKey(0)\n",
    "cv2.destroyAllWindows()"
   ]
  },
  {
   "cell_type": "code",
   "execution_count": 1,
   "metadata": {},
   "outputs": [
    {
     "ename": "NameError",
     "evalue": "name 'result' is not defined",
     "output_type": "error",
     "traceback": [
      "\u001b[0;31m---------------------------------------------------------------------------\u001b[0m",
      "\u001b[0;31mNameError\u001b[0m                                 Traceback (most recent call last)",
      "\u001b[0;32m<ipython-input-1-0ac921c19f1a>\u001b[0m in \u001b[0;36m<module>\u001b[0;34m\u001b[0m\n\u001b[0;32m----> 1\u001b[0;31m \u001b[0mresult\u001b[0m\u001b[0;34m\u001b[0m\u001b[0;34m\u001b[0m\u001b[0m\n\u001b[0m",
      "\u001b[0;31mNameError\u001b[0m: name 'result' is not defined"
     ]
    }
   ],
   "source": [
    "result"
   ]
  },
  {
   "cell_type": "code",
   "execution_count": 18,
   "metadata": {},
   "outputs": [
    {
     "data": {
      "text/plain": [
       "NoneType"
      ]
     },
     "execution_count": 18,
     "metadata": {},
     "output_type": "execute_result"
    }
   ],
   "source": []
  },
  {
   "cell_type": "code",
   "execution_count": null,
   "metadata": {},
   "outputs": [],
   "source": []
  }
 ],
 "metadata": {
  "kernelspec": {
   "display_name": "Python 3",
   "language": "python",
   "name": "python3"
  },
  "language_info": {
   "codemirror_mode": {
    "name": "ipython",
    "version": 3
   },
   "file_extension": ".py",
   "mimetype": "text/x-python",
   "name": "python",
   "nbconvert_exporter": "python",
   "pygments_lexer": "ipython3",
   "version": "3.7.6"
  }
 },
 "nbformat": 4,
 "nbformat_minor": 4
}
