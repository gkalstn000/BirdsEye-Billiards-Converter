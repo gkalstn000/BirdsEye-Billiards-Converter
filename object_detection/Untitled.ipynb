{
 "cells": [
  {
   "cell_type": "code",
   "execution_count": 1,
   "metadata": {},
   "outputs": [],
   "source": [
    "\n",
    "import numpy as np\n",
    "import sys\n",
    "import os\n",
    "import tensorflow.compat.v1 as tf\n",
    "import cv2\n",
    "\n",
    "from PIL import Image\n",
    "\n",
    "\n",
    "from object_detection.utils import ops as utils_ops\n",
    "\n",
    "# if tf.__version__ < '1.4.0':\n",
    "#   raise ImportError('Please upgrade your tensorflow installation to v1.4.* or later!')\n",
    "\n",
    "from object_detection.utils import label_map_util\n",
    "from object_detection.utils import visualization_utils as vis_util\n",
    "\n",
    "\n",
    "PATH_TO_FROZEN_GRAPH = 'fine_tuned_model/frozen_inference_graph.pb'\n",
    "PATH_TO_LABEL_MAP = 'label_map.pbtxt'\n",
    "NUM_CLASSES = 4\n",
    "MODEL_NAME = 'faster_rnn_inception'\n",
    "\n",
    "detection_graph = tf.Graph()\n",
    "with detection_graph.as_default():\n",
    "    od_graph_def = tf.GraphDef()\n",
    "    with tf.gfile.GFile(PATH_TO_FROZEN_GRAPH, 'rb') as fid:\n",
    "        serialized_graph = fid.read()\n",
    "        od_graph_def.ParseFromString(serialized_graph)\n",
    "        tf.import_graph_def(od_graph_def, name='')\n",
    "        \n",
    "        \n",
    "label_map = label_map_util.load_labelmap(PATH_TO_LABEL_MAP)\n",
    "categories = label_map_util.convert_label_map_to_categories(label_map, max_num_classes=NUM_CLASSES,\n",
    "                                                            use_display_name=True)\n",
    "category_index = label_map_util.create_category_index(categories)\n",
    "\n",
    "def load_image_into_numpy_array(image):\n",
    "    (im_width, im_height) = image.size\n",
    "    return np.array(image.getdata()).reshape((im_height, im_width, 3)).astype(np.uint8)\n",
    "\n",
    "\n",
    "def run_inference_for_single_image(image, graph):\n",
    "    with graph.as_default():\n",
    "        with tf.Session() as sess:\n",
    "            \n",
    "            # Get handles to input and output tensors\n",
    "            ops = tf.get_default_graph().get_operations()\n",
    "            all_tensor_names = {output.name for op in ops for output in op.outputs}\n",
    "            tensor_dict = {}\n",
    "            for key in [\n",
    "                    'num_detections', 'detection_boxes', 'detection_scores',\n",
    "                    'detection_classes', 'detection_masks'\n",
    "                    ]:\n",
    "              \n",
    "                tensor_name = key + ':0'\n",
    "                if tensor_name in all_tensor_names:\n",
    "                    tensor_dict[key] = tf.get_default_graph().get_tensor_by_name(tensor_name)\n",
    "          \n",
    "            if 'detection_masks' in tensor_dict:\n",
    "                # The following processing is only for single image\n",
    "                detection_boxes = tf.squeeze(tensor_dict['detection_boxes'], [0])\n",
    "                detection_masks = tf.squeeze(tensor_dict['detection_masks'], [0])\n",
    "                # Reframe is required to translate mask from box coordinates to image coordinates and fit the image size.\n",
    "                real_num_detection = tf.cast(tensor_dict['num_detections'][0], tf.int32)\n",
    "                detection_boxes = tf.slice(detection_boxes, [0, 0], [real_num_detection, -1])\n",
    "                detection_masks = tf.slice(detection_masks, [0, 0, 0], [real_num_detection, -1, -1])\n",
    "                detection_masks_reframed = utils_ops.reframe_box_masks_to_image_masks(\n",
    "                    detection_masks, detection_boxes, image.shape[0], image.shape[1])\n",
    "                detection_masks_reframed = tf.cast(\n",
    "                    tf.greater(detection_masks_reframed, 0.5), tf.uint8)\n",
    "                # Follow the convention by adding back the batch dimension\n",
    "                tensor_dict['detection_masks'] = tf.expand_dims(\n",
    "                    detection_masks_reframed, 0)\n",
    "        \n",
    "        \n",
    "            image_tensor = tf.get_default_graph().get_tensor_by_name('image_tensor:0')\n",
    "\n",
    "              # Run inference\n",
    "            output_dict = sess.run(tensor_dict,\n",
    "                                 feed_dict={image_tensor: np.expand_dims(image, 0)})\n",
    "\n",
    "              # all outputs are float32 numpy arrays, so convert types as appropriate\n",
    "            output_dict['num_detections'] = int(output_dict['num_detections'][0])\n",
    "            output_dict['detection_classes'] = output_dict[\n",
    "                'detection_classes'][0].astype(np.uint8)\n",
    "            output_dict['detection_boxes'] = output_dict['detection_boxes'][0]\n",
    "            output_dict['detection_scores'] = output_dict['detection_scores'][0]\n",
    "            if 'detection_masks' in output_dict:\n",
    "                output_dict['detection_masks'] = output_dict['detection_masks'][0]\n",
    "    return output_dict"
   ]
  },
  {
   "cell_type": "code",
   "execution_count": 3,
   "metadata": {},
   "outputs": [],
   "source": [
    "image_path = '/Users/gkalstn/capstone/test_images/img1.jpeg'"
   ]
  },
  {
   "cell_type": "code",
   "execution_count": 4,
   "metadata": {},
   "outputs": [],
   "source": [
    "image = Image.open(image_path)\n",
    "image = image.resize((845,526))\n",
    "image_np = load_image_into_numpy_array(image)\n",
    "image_np_expanded = np.expand_dims(image_np, axis=0)\n",
    "output_dict = run_inference_for_single_image(image_np, detection_graph)"
   ]
  },
  {
   "cell_type": "code",
   "execution_count": 2,
   "metadata": {},
   "outputs": [],
   "source": [
    "def class_cordinate(output_dict) :\n",
    "    num_detections = output_dict['detection_classes']\n",
    "    detection_boxes = output_dict['detection_boxes']\n",
    "    detection_scores = output_dict['detection_scores']\n",
    "    detection_classes = output_dict['detection_classes']\n",
    "\n",
    "    class_1_max_score = 0\n",
    "    class_2_max_score = 0\n",
    "    class_3_max_score = 0\n",
    "    class_4_max_score = 0\n",
    "    \n",
    "    class_1_ind = 0\n",
    "    class_2_ind = 0\n",
    "    class_3_ind = 0\n",
    "    class_4_ind = 0\n",
    "\n",
    "\n",
    "    for i in range(len(detection_classes)) :\n",
    "        if detection_classes[i] == 1 :\n",
    "            if class_1_max_score < detection_scores[i]:\n",
    "                class_1_max_score = detection_scores[i]\n",
    "                class_1_ind = i\n",
    "        elif detection_classes[i] == 2 :\n",
    "            if class_2_max_score < detection_scores[i]:\n",
    "                class_2_max_score = detection_scores[i]\n",
    "                class_2_ind = i\n",
    "        elif detection_classes[i] == 3 :\n",
    "            if class_3_max_score < detection_scores[i]:\n",
    "                class_3_max_score = detection_scores[i]\n",
    "                class_3_ind = i\n",
    "        else :\n",
    "            if class_4_max_score < detection_scores[i]:\n",
    "                class_4_max_score = detection_scores[i]\n",
    "                class_4_ind = i\n",
    "\n",
    "    result = {'table' : detection_boxes[class_2_ind],\n",
    "             'red_ball' : detection_boxes[class_1_ind],\n",
    "             'white_ball' : detection_boxes[class_3_ind],\n",
    "             'yellow_ball' : detection_boxes[class_4_ind]}\n",
    "    return result"
   ]
  },
  {
   "cell_type": "code",
   "execution_count": 5,
   "metadata": {},
   "outputs": [],
   "source": [
    "cordinates = class_cordinate(output_dict)\n",
    "img_height, img_width, img_channel = image_np.shape\n",
    "absolute_coord = []\n",
    "\n",
    "for i in cordinates.keys() :\n",
    "    ymin, xmin, ymax, xmax = cordinates[i]\n",
    "    x_up = int(xmin*img_width)\n",
    "    y_up = int(ymin*img_height)\n",
    "    x_down = int(xmax*img_width)\n",
    "    y_down = int(ymax*img_height)\n",
    "    absolute_coord.append([x_up,y_up,x_down,y_down])"
   ]
  },
  {
   "cell_type": "code",
   "execution_count": 6,
   "metadata": {},
   "outputs": [],
   "source": [
    "bounding_box_img = []\n",
    "c = absolute_coord[0]\n",
    "bounding_box_img = image_np[c[1]:c[3], c[0]:c[2],:]"
   ]
  },
  {
   "cell_type": "code",
   "execution_count": 7,
   "metadata": {},
   "outputs": [],
   "source": [
    "red = [(absolute_coord[1][0]+absolute_coord[1][2])//2 - c[0], (absolute_coord[1][1]+absolute_coord[1][3])//2 - c[1]]\n",
    "white = [(absolute_coord[2][0]+absolute_coord[2][2])//2 - c[0], (absolute_coord[2][1]+absolute_coord[2][3])//2 - c[1]]\n",
    "yellow = [(absolute_coord[3][0]+absolute_coord[3][2])//2 - c[0], (absolute_coord[3][1]+absolute_coord[3][3])//2 - c[1]]"
   ]
  },
  {
   "cell_type": "code",
   "execution_count": 8,
   "metadata": {},
   "outputs": [],
   "source": [
    "points = [red, white, yellow]"
   ]
  },
  {
   "cell_type": "code",
   "execution_count": 9,
   "metadata": {},
   "outputs": [
    {
     "data": {
      "text/plain": [
       "[[214, 348], [87, 186], [29, 220]]"
      ]
     },
     "execution_count": 9,
     "metadata": {},
     "output_type": "execute_result"
    }
   ],
   "source": [
    "points"
   ]
  },
  {
   "cell_type": "code",
   "execution_count": 10,
   "metadata": {},
   "outputs": [],
   "source": [
    "from PIL import Image\n",
    "import numpy as np\n",
    "\n",
    "img = Image.fromarray(bounding_box_img, 'RGB')\n",
    "img.save('my.png')\n",
    "img.show()"
   ]
  },
  {
   "cell_type": "code",
   "execution_count": null,
   "metadata": {},
   "outputs": [],
   "source": []
  }
 ],
 "metadata": {
  "kernelspec": {
   "display_name": "Python 3",
   "language": "python",
   "name": "python3"
  },
  "language_info": {
   "codemirror_mode": {
    "name": "ipython",
    "version": 3
   },
   "file_extension": ".py",
   "mimetype": "text/x-python",
   "name": "python",
   "nbconvert_exporter": "python",
   "pygments_lexer": "ipython3",
   "version": "3.7.6"
  }
 },
 "nbformat": 4,
 "nbformat_minor": 4
}
