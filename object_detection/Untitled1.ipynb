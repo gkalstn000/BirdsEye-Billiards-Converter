{
 "cells": [
  {
   "cell_type": "code",
   "execution_count": 3,
   "metadata": {},
   "outputs": [
    {
     "name": "stdout",
     "output_type": "stream",
     "text": [
      "/Users/gkalstn/capstone/trans\n"
     ]
    }
   ],
   "source": [
    "%cd trans"
   ]
  },
  {
   "cell_type": "code",
   "execution_count": 10,
   "metadata": {},
   "outputs": [],
   "source": [
    "import cv2\n",
    "\n",
    "\n",
    "left = cv2.imread(\"/Users/gkalstn/capstone/test_images/img6.jpeg\")    # left = cv2.imread(\"위치2-1.jpeg\") #입력받은 초기 이미지\n",
    "right = cv2.imread(\"/Users/gkalstn/capstone/test_image_result/results.png\")   # 처리 완료한 결과 이미지\n",
    "left = cv2.resize(left, dsize=(348, 630), interpolation=cv2.INTER_AREA)"
   ]
  },
  {
   "cell_type": "code",
   "execution_count": 11,
   "metadata": {},
   "outputs": [
    {
     "data": {
      "text/plain": [
       "(630, 348, 3)"
      ]
     },
     "execution_count": 11,
     "metadata": {},
     "output_type": "execute_result"
    }
   ],
   "source": [
    "right.shape"
   ]
  },
  {
   "cell_type": "code",
   "execution_count": null,
   "metadata": {},
   "outputs": [],
   "source": [
    "\n",
    "result = cv2.hconcat([left, right])     # 두 이미지 합친 마지막 결과\n",
    "cv2.imshow(\"last result\", result)\n",
    "cv2.imwrite(\"last_result.jpg\", result)\n",
    "cv2.waitKey(0)"
   ]
  },
  {
   "cell_type": "code",
   "execution_count": null,
   "metadata": {},
   "outputs": [],
   "source": []
  }
 ],
 "metadata": {
  "kernelspec": {
   "display_name": "Python 3",
   "language": "python",
   "name": "python3"
  },
  "language_info": {
   "codemirror_mode": {
    "name": "ipython",
    "version": 3
   },
   "file_extension": ".py",
   "mimetype": "text/x-python",
   "name": "python",
   "nbconvert_exporter": "python",
   "pygments_lexer": "ipython3",
   "version": "3.7.6"
  }
 },
 "nbformat": 4,
 "nbformat_minor": 4
}
