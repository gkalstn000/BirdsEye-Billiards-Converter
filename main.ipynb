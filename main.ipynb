{
 "cells": [
  {
   "cell_type": "code",
<<<<<<< HEAD
   "execution_count": 2,
=======
   "execution_count": 1,
>>>>>>> 75c71d7c204a0cf16e6360a0f53a220b9badb8de
   "metadata": {},
   "outputs": [
    {
     "ename": "SyntaxError",
     "evalue": "(unicode error) 'unicodeescape' codec can't decode bytes in position 2-3: truncated \\UXXXXXXXX escape (<ipython-input-2-152e21c99ea2>, line 10)",
     "output_type": "error",
     "traceback": [
      "\u001b[1;36m  File \u001b[1;32m\"<ipython-input-2-152e21c99ea2>\"\u001b[1;36m, line \u001b[1;32m10\u001b[0m\n\u001b[1;33m    image_path = 'C:\\Users\\baek\\Desktop\\caps\\capstone\\img482.jpg'\u001b[0m\n\u001b[1;37m                ^\u001b[0m\n\u001b[1;31mSyntaxError\u001b[0m\u001b[1;31m:\u001b[0m (unicode error) 'unicodeescape' codec can't decode bytes in position 2-3: truncated \\UXXXXXXXX escape\n"
     ]
    }
   ],
   "source": [
    "import numpy as np\n",
    "import sys\n",
    "import os\n",
    "import tensorflow.compat.v1 as tf\n",
    "import cv2\n",
    "from PIL import Image\n",
    "\n",
    "import object_detection.obj_cut as oc\n",
    "\n",
    "image_path = 'C:\\Users\\baek\\Desktop\\caps\\capstone\\img482.jpg'\n",
    "#image_path = '/Users/gkalstn/capstone/test_images/img482.jpg'"
   ]
  },
  {
   "cell_type": "code",
   "execution_count": 2,
   "metadata": {},
   "outputs": [],
   "source": [
    "image_np = oc.single_image_cut(image_path)"
   ]
  },
  {
   "cell_type": "code",
   "execution_count": 3,
   "metadata": {},
   "outputs": [],
   "source": [
    "MODEL_NAME = 'ssd_mobilenet_v2'\n",
    "PATH_TO_TEST_IMAGES_DIR = '/Users/gkalstn/capstone/test_images'\n",
    "TEST_IMAGE_PATHS = [os.path.join(PATH_TO_TEST_IMAGES_DIR, img) for img in os.listdir(PATH_TO_TEST_IMAGES_DIR)]\n",
    "TEST_SAVE_PATH = 'test_result/{}'.format(MODEL_NAME)"
   ]
  },
  {
   "cell_type": "markdown",
   "metadata": {},
   "source": [
    "-- 하민수 끝 --"
   ]
  },
  {
   "cell_type": "code",
   "execution_count": 4,
   "metadata": {},
   "outputs": [
    {
     "name": "stdout",
     "output_type": "stream",
     "text": [
      "3.7.6 (default, Jan  8 2020, 13:42:34) \n",
      "[Clang 4.0.1 (tags/RELEASE_401/final)]\n"
     ]
    }
   ],
   "source": [
    "import cordinate.Billiards_Detect_test as bd\n",
    "import math\n",
    "import matplotlib.pyplot as plt"
   ]
  },
  {
   "cell_type": "code",
   "execution_count": 5,
   "metadata": {},
   "outputs": [
    {
     "data": {
      "text/plain": [
       "'1.15.0'"
      ]
     },
     "execution_count": 5,
     "metadata": {},
     "output_type": "execute_result"
    }
   ],
   "source": [
    "tf.__version__"
   ]
  },
  {
   "cell_type": "code",
   "execution_count": 6,
   "metadata": {},
   "outputs": [
    {
     "name": "stdout",
     "output_type": "stream",
     "text": [
      "[[ 945  624]\n",
      " [1077 1888]\n",
      " [   3  899]\n",
      " [ 851   51]\n",
      " [   1  881]\n",
      " [ 850    1]\n",
      " [   1 1681]\n",
      " [ 722 1888]\n",
      " [  37 1652]\n",
      " [1077 1892]\n",
      " [ 364  452]\n",
      " [ 541  256]\n",
      " [ 341 1721]\n",
      " [1071 1837]\n",
      " [ 158 1676]\n",
      " [ 760 1804]\n",
      " [  14 1684]\n",
      " [  24 1069]\n",
      " [   1  882]\n",
      " [ 851    1]\n",
      " [ 384 1731]\n",
      " [1023 1833]\n",
      " [   3  897]\n",
      " [ 663  237]\n",
      " [   1  843]\n",
      " [ 271  553]\n",
      " [ 359 1725]\n",
      " [1071 1838]\n",
      " [   1  842]\n",
      " [ 352  465]\n",
      " [ 647  142]\n",
      " [ 772    4]\n",
      " [ 306 1713]\n",
      " [ 904 1808]\n",
      " [ 419 1739]\n",
      " [1072 1843]\n",
      " [ 753  783]\n",
      " [ 753  663]\n",
      " [ 753 1213]\n",
      " [ 753 1089]\n",
      " [ 442 1744]\n",
      " [ 862 1811]\n",
      " [ 141 1675]\n",
      " [ 891 1848]\n",
      " [ 913  294]\n",
      " [ 942  578]\n",
      " [   1  896]\n",
      " [ 509  388]\n",
      " [ 751 1211]\n",
      " [1005 1211]\n",
      " [   3  898]\n",
      " [ 886   15]\n",
      " [ 564  231]\n",
      " [ 778    1]\n",
      " [ 108 1665]\n",
      " [ 763 1804]\n",
      " [  22 1120]\n",
      " [  27  816]\n",
      " [ 950  681]\n",
      " [1078 1901]\n",
      " [ 900  146]\n",
      " [ 916  321]\n",
      " [ 105 1661]\n",
      " [ 275 1697]\n",
      " [   1  878]\n",
      " [ 192  680]\n",
      " [ 644 1764]\n",
      " [ 834 1794]]\n"
     ]
    }
   ],
   "source": [
    "result, image_np = bd.Detecting(image_np)"
   ]
  },
  {
   "cell_type": "code",
   "execution_count": 23,
   "metadata": {},
   "outputs": [
    {
     "data": {
      "text/plain": [
       "[[850, 1], [1078, 1901], [1, 881], [1078, 1901]]"
      ]
     },
     "execution_count": 23,
     "metadata": {},
     "output_type": "execute_result"
    }
   ],
   "source": [
    "result"
   ]
  },
  {
   "cell_type": "code",
   "execution_count": 12,
   "metadata": {},
   "outputs": [
    {
     "ename": "error",
     "evalue": "OpenCV(4.1.2) /Users/travis/build/skvark/opencv-python/opencv/modules/imgproc/src/resize.cpp:3720: error: (-215:Assertion failed) !ssize.empty() in function 'resize'\n",
     "output_type": "error",
     "traceback": [
      "\u001b[0;31m---------------------------------------------------------------------------\u001b[0m",
      "\u001b[0;31merror\u001b[0m                                     Traceback (most recent call last)",
      "\u001b[0;32m<ipython-input-12-3dfeae78dec5>\u001b[0m in \u001b[0;36m<module>\u001b[0;34m\u001b[0m\n\u001b[0;32m----> 1\u001b[0;31m \u001b[0;32mimport\u001b[0m \u001b[0mtrans\u001b[0m\u001b[0;34m.\u001b[0m\u001b[0mimgwarp2\u001b[0m \u001b[0;32mas\u001b[0m \u001b[0miw\u001b[0m\u001b[0;34m\u001b[0m\u001b[0;34m\u001b[0m\u001b[0m\n\u001b[0m",
      "\u001b[0;32m~/capstone/trans/imgwarp2.py\u001b[0m in \u001b[0;36m<module>\u001b[0;34m\u001b[0m\n\u001b[1;32m    128\u001b[0m     \u001b[0;32mreturn\u001b[0m\u001b[0;34m(\u001b[0m\u001b[0mcv2\u001b[0m\u001b[0;34m.\u001b[0m\u001b[0mimread\u001b[0m\u001b[0;34m(\u001b[0m\u001b[0;34m\"show_result.png\"\u001b[0m\u001b[0;34m)\u001b[0m\u001b[0;34m)\u001b[0m\u001b[0;34m\u001b[0m\u001b[0;34m\u001b[0m\u001b[0m\n\u001b[1;32m    129\u001b[0m \u001b[0;34m\u001b[0m\u001b[0m\n\u001b[0;32m--> 130\u001b[0;31m \u001b[0mimg_warp\u001b[0m\u001b[0;34m(\u001b[0m\u001b[0;34m[\u001b[0m\u001b[0;34m(\u001b[0m\u001b[0;36m22\u001b[0m\u001b[0;34m,\u001b[0m \u001b[0;36m464\u001b[0m\u001b[0;34m)\u001b[0m\u001b[0;34m,\u001b[0m \u001b[0;34m(\u001b[0m\u001b[0;36m226\u001b[0m\u001b[0;34m,\u001b[0m \u001b[0;36m93\u001b[0m\u001b[0;34m)\u001b[0m\u001b[0;34m,\u001b[0m \u001b[0;34m(\u001b[0m\u001b[0;36m815\u001b[0m\u001b[0;34m,\u001b[0m \u001b[0;36m443\u001b[0m\u001b[0;34m)\u001b[0m\u001b[0;34m,\u001b[0m \u001b[0;34m(\u001b[0m\u001b[0;36m527\u001b[0m\u001b[0;34m,\u001b[0m \u001b[0;36m98\u001b[0m\u001b[0;34m)\u001b[0m\u001b[0;34m,\u001b[0m \u001b[0;34m(\u001b[0m\u001b[0;36m225\u001b[0m\u001b[0;34m,\u001b[0m \u001b[0;36m137\u001b[0m\u001b[0;34m)\u001b[0m\u001b[0;34m,\u001b[0m \u001b[0;34m(\u001b[0m\u001b[0;36m385\u001b[0m\u001b[0;34m,\u001b[0m \u001b[0;36m141\u001b[0m\u001b[0;34m)\u001b[0m\u001b[0;34m,\u001b[0m \u001b[0;34m(\u001b[0m\u001b[0;36m539\u001b[0m\u001b[0;34m,\u001b[0m \u001b[0;36m141\u001b[0m\u001b[0;34m)\u001b[0m\u001b[0;34m]\u001b[0m\u001b[0;34m)\u001b[0m\u001b[0;34m\u001b[0m\u001b[0;34m\u001b[0m\u001b[0m\n\u001b[0m",
      "\u001b[0;32m~/capstone/trans/imgwarp2.py\u001b[0m in \u001b[0;36mimg_warp\u001b[0;34m(total_7_list)\u001b[0m\n\u001b[1;32m     48\u001b[0m     \u001b[0mimg_original\u001b[0m \u001b[0;34m=\u001b[0m \u001b[0mcv2\u001b[0m\u001b[0;34m.\u001b[0m\u001b[0mimread\u001b[0m\u001b[0;34m(\u001b[0m\u001b[0;34m'test.jpeg'\u001b[0m\u001b[0;34m)\u001b[0m \u001b[0;31m# test3.jpg 파일을 img_original 변수에 저장\u001b[0m\u001b[0;34m\u001b[0m\u001b[0;34m\u001b[0m\u001b[0m\n\u001b[1;32m     49\u001b[0m     \u001b[0mimg_original2\u001b[0m \u001b[0;34m=\u001b[0m \u001b[0mcv2\u001b[0m\u001b[0;34m.\u001b[0m\u001b[0mimread\u001b[0m\u001b[0;34m(\u001b[0m\u001b[0;34m'base.png'\u001b[0m\u001b[0;34m)\u001b[0m \u001b[0;31m# test3.jpg 파일을 img_original 변수에 저장\u001b[0m\u001b[0;34m\u001b[0m\u001b[0;34m\u001b[0m\u001b[0m\n\u001b[0;32m---> 50\u001b[0;31m     \u001b[0mimg_original2\u001b[0m \u001b[0;34m=\u001b[0m \u001b[0mcv2\u001b[0m\u001b[0;34m.\u001b[0m\u001b[0mresize\u001b[0m\u001b[0;34m(\u001b[0m\u001b[0mimg_original2\u001b[0m\u001b[0;34m,\u001b[0m \u001b[0mdsize\u001b[0m\u001b[0;34m=\u001b[0m\u001b[0;34m(\u001b[0m\u001b[0;36m650\u001b[0m\u001b[0;34m,\u001b[0m \u001b[0;36m344\u001b[0m\u001b[0;34m)\u001b[0m\u001b[0;34m,\u001b[0m \u001b[0minterpolation\u001b[0m\u001b[0;34m=\u001b[0m\u001b[0mcv2\u001b[0m\u001b[0;34m.\u001b[0m\u001b[0mINTER_AREA\u001b[0m\u001b[0;34m)\u001b[0m\u001b[0;34m\u001b[0m\u001b[0;34m\u001b[0m\u001b[0m\n\u001b[0m\u001b[1;32m     51\u001b[0m     \u001b[0;31m# img_original3 = cv2.imread('빈다이3.png') # test3.jpg 파일을 img_original 변수에 저장\u001b[0m\u001b[0;34m\u001b[0m\u001b[0;34m\u001b[0m\u001b[0;34m\u001b[0m\u001b[0m\n\u001b[1;32m     52\u001b[0m     \u001b[0;31m# img_original3 = cv2.resize(img_original3, dsize=(650, 346), interpolation=cv2.INTER_AREA)\u001b[0m\u001b[0;34m\u001b[0m\u001b[0;34m\u001b[0m\u001b[0;34m\u001b[0m\u001b[0m\n",
      "\u001b[0;31merror\u001b[0m: OpenCV(4.1.2) /Users/travis/build/skvark/opencv-python/opencv/modules/imgproc/src/resize.cpp:3720: error: (-215:Assertion failed) !ssize.empty() in function 'resize'\n"
     ]
    }
   ],
   "source": [
    "import trans.imgwarp2 as iw"
   ]
  },
  {
   "cell_type": "code",
   "execution_count": 24,
   "metadata": {},
   "outputs": [],
   "source": [
    "result.append([225, 137])\n",
    "result.append([385, 141])\n",
    "result.append([539, 141])"
   ]
  },
  {
   "cell_type": "code",
   "execution_count": 25,
   "metadata": {},
   "outputs": [
    {
     "data": {
      "text/plain": [
       "[[850, 1],\n",
       " [1078, 1901],\n",
       " [1, 881],\n",
       " [1078, 1901],\n",
       " [225, 137],\n",
       " [385, 141],\n",
       " [539, 141]]"
      ]
     },
     "execution_count": 25,
     "metadata": {},
     "output_type": "execute_result"
    }
   ],
   "source": [
    "result"
   ]
  },
  {
   "cell_type": "code",
   "execution_count": 10,
   "metadata": {},
   "outputs": [],
   "source": []
  },
  {
   "cell_type": "code",
   "execution_count": 30,
   "metadata": {},
   "outputs": [
    {
     "name": "stdout",
     "output_type": "stream",
     "text": [
      "OpenCV(4.1.2) /Users/travis/build/skvark/opencv-python/opencv/modules/imgproc/src/resize.cpp:3720: error: (-215:Assertion failed) !ssize.empty() in function 'resize'\n",
      "\n"
     ]
    },
    {
     "ename": "SystemError",
     "evalue": "new style getargs format but argument is not a tuple",
     "output_type": "error",
     "traceback": [
      "\u001b[0;31m---------------------------------------------------------------------------\u001b[0m",
      "\u001b[0;31mSystemError\u001b[0m                               Traceback (most recent call last)",
      "\u001b[0;32m<ipython-input-30-92339dde41ef>\u001b[0m in \u001b[0;36m<module>\u001b[0;34m\u001b[0m\n\u001b[0;32m----> 1\u001b[0;31m \u001b[0miw\u001b[0m\u001b[0;34m.\u001b[0m\u001b[0mimg_warp\u001b[0m\u001b[0;34m(\u001b[0m\u001b[0mresult\u001b[0m\u001b[0;34m,\u001b[0m \u001b[0mimage_np\u001b[0m\u001b[0;34m)\u001b[0m\u001b[0;34m\u001b[0m\u001b[0;34m\u001b[0m\u001b[0m\n\u001b[0m",
      "\u001b[0;32m~/capstone/trans/imgwarp2.py\u001b[0m in \u001b[0;36mimg_warp\u001b[0;34m(total_7_list, image_np)\u001b[0m\n\u001b[1;32m     57\u001b[0m \u001b[0;34m\u001b[0m\u001b[0m\n\u001b[1;32m     58\u001b[0m     \u001b[0;31m#(B,G,R)\u001b[0m\u001b[0;34m\u001b[0m\u001b[0;34m\u001b[0m\u001b[0;34m\u001b[0m\u001b[0m\n\u001b[0;32m---> 59\u001b[0;31m     \u001b[0mcv2\u001b[0m\u001b[0;34m.\u001b[0m\u001b[0mcircle\u001b[0m\u001b[0;34m(\u001b[0m\u001b[0mimage_np\u001b[0m\u001b[0;34m,\u001b[0m \u001b[0;34m(\u001b[0m\u001b[0mpoint_list2\u001b[0m\u001b[0;34m[\u001b[0m\u001b[0;36m0\u001b[0m\u001b[0;34m]\u001b[0m\u001b[0;34m)\u001b[0m\u001b[0;34m,\u001b[0m \u001b[0;36m2\u001b[0m\u001b[0;34m,\u001b[0m \u001b[0;34m(\u001b[0m\u001b[0;36m255\u001b[0m\u001b[0;34m,\u001b[0m \u001b[0;36m255\u001b[0m\u001b[0;34m,\u001b[0m \u001b[0;36m255\u001b[0m\u001b[0;34m)\u001b[0m\u001b[0;34m,\u001b[0m \u001b[0;34m-\u001b[0m\u001b[0;36m1\u001b[0m\u001b[0;34m)\u001b[0m \u001b[0;31m# R -> W\u001b[0m\u001b[0;34m\u001b[0m\u001b[0;34m\u001b[0m\u001b[0m\n\u001b[0m\u001b[1;32m     60\u001b[0m     \u001b[0mcv2\u001b[0m\u001b[0;34m.\u001b[0m\u001b[0mcircle\u001b[0m\u001b[0;34m(\u001b[0m\u001b[0mimage_np\u001b[0m\u001b[0;34m,\u001b[0m \u001b[0;34m(\u001b[0m\u001b[0mpoint_list2\u001b[0m\u001b[0;34m[\u001b[0m\u001b[0;36m1\u001b[0m\u001b[0;34m]\u001b[0m\u001b[0;34m)\u001b[0m\u001b[0;34m,\u001b[0m \u001b[0;36m2\u001b[0m\u001b[0;34m,\u001b[0m \u001b[0;34m(\u001b[0m\u001b[0;36m0\u001b[0m\u001b[0;34m,\u001b[0m \u001b[0;36m0\u001b[0m\u001b[0;34m,\u001b[0m \u001b[0;36m255\u001b[0m\u001b[0;34m)\u001b[0m\u001b[0;34m,\u001b[0m \u001b[0;34m-\u001b[0m\u001b[0;36m1\u001b[0m\u001b[0;34m)\u001b[0m \u001b[0;31m# B -> R\u001b[0m\u001b[0;34m\u001b[0m\u001b[0;34m\u001b[0m\u001b[0m\n\u001b[1;32m     61\u001b[0m     \u001b[0mcv2\u001b[0m\u001b[0;34m.\u001b[0m\u001b[0mcircle\u001b[0m\u001b[0;34m(\u001b[0m\u001b[0mimage_np\u001b[0m\u001b[0;34m,\u001b[0m \u001b[0;34m(\u001b[0m\u001b[0mpoint_list2\u001b[0m\u001b[0;34m[\u001b[0m\u001b[0;36m2\u001b[0m\u001b[0;34m]\u001b[0m\u001b[0;34m)\u001b[0m\u001b[0;34m,\u001b[0m \u001b[0;36m2\u001b[0m\u001b[0;34m,\u001b[0m \u001b[0;34m(\u001b[0m\u001b[0;36m0\u001b[0m\u001b[0;34m,\u001b[0m \u001b[0;36m255\u001b[0m\u001b[0;34m,\u001b[0m \u001b[0;36m255\u001b[0m\u001b[0;34m)\u001b[0m\u001b[0;34m,\u001b[0m \u001b[0;34m-\u001b[0m\u001b[0;36m1\u001b[0m\u001b[0;34m)\u001b[0m \u001b[0;31m# G -> Y\u001b[0m\u001b[0;34m\u001b[0m\u001b[0;34m\u001b[0m\u001b[0m\n",
      "\u001b[0;31mSystemError\u001b[0m: new style getargs format but argument is not a tuple"
     ]
    }
   ],
   "source": [
    "iw.img_warp(result, image_np)"
   ]
  },
  {
   "cell_type": "code",
   "execution_count": 31,
   "metadata": {},
   "outputs": [
    {
     "data": {
      "text/plain": [
       "[array([776,   0], dtype=int32),\n",
       " array([ 763, 1900], dtype=int32),\n",
       " array([  1, 842], dtype=int32),\n",
       " array([1077, 1889], dtype=int32)]"
      ]
     },
     "execution_count": 31,
     "metadata": {},
     "output_type": "execute_result"
    }
   ],
   "source": [
    "ss = result[:4]\n",
    "ss"
   ]
  },
  {
   "cell_type": "code",
   "execution_count": 33,
   "metadata": {},
   "outputs": [],
   "source": [
    "a = np.array([2, 3], dtype = int)"
   ]
  },
  {
   "cell_type": "code",
   "execution_count": 34,
   "metadata": {},
   "outputs": [
    {
     "data": {
      "text/plain": [
       "array([2, 3])"
      ]
     },
     "execution_count": 34,
     "metadata": {},
     "output_type": "execute_result"
    }
   ],
   "source": [
    "a"
   ]
  },
  {
   "cell_type": "code",
   "execution_count": 13,
   "metadata": {},
   "outputs": [],
   "source": [
    "def load_image_into_numpy_array(image):\n",
    "    (im_width, im_height) = image.size\n",
    "    return np.array(image.getdata()).reshape((im_height, im_width, 3)).astype(np.uint8)\n"
   ]
  },
  {
   "cell_type": "code",
   "execution_count": 16,
   "metadata": {},
   "outputs": [],
   "source": [
    "image = Image.open(image_path)\n",
    "image_np = load_image_into_numpy_array(image)"
   ]
  },
  {
   "cell_type": "code",
   "execution_count": 17,
   "metadata": {},
   "outputs": [],
   "source": [
    "img_cv = cv2.imread(image_path)"
   ]
  },
  {
   "cell_type": "code",
   "execution_count": 18,
   "metadata": {},
   "outputs": [
    {
     "data": {
      "text/plain": [
       "(2160, 2160, 3)"
      ]
     },
     "execution_count": 18,
     "metadata": {},
     "output_type": "execute_result"
    }
   ],
   "source": [
    "image_np.shape"
   ]
  },
  {
   "cell_type": "code",
   "execution_count": 19,
   "metadata": {},
   "outputs": [
    {
     "data": {
      "text/plain": [
       "(2160, 2160, 3)"
      ]
     },
     "execution_count": 19,
     "metadata": {},
     "output_type": "execute_result"
    }
   ],
   "source": [
    "img_cv.shape"
   ]
  },
  {
   "cell_type": "code",
   "execution_count": 21,
   "metadata": {},
   "outputs": [
    {
     "data": {
      "text/plain": [
       "array([[[101, 113, 113],\n",
       "        [106, 118, 118],\n",
       "        [ 94, 106, 106],\n",
       "        ...,\n",
       "        [ 83,  67,  70],\n",
       "        [ 74,  58,  61],\n",
       "        [104,  88,  91]],\n",
       "\n",
       "       [[107, 117, 116],\n",
       "        [111, 121, 122],\n",
       "        [106, 118, 118],\n",
       "        ...,\n",
       "        [ 87,  71,  74],\n",
       "        [ 76,  60,  63],\n",
       "        [ 89,  73,  76]],\n",
       "\n",
       "       [[104, 114, 113],\n",
       "        [105, 115, 114],\n",
       "        [101, 111, 112],\n",
       "        ...,\n",
       "        [ 88,  72,  75],\n",
       "        [ 81,  65,  68],\n",
       "        [ 82,  66,  69]],\n",
       "\n",
       "       ...,\n",
       "\n",
       "       [[192, 201, 196],\n",
       "        [190, 199, 194],\n",
       "        [190, 199, 194],\n",
       "        ...,\n",
       "        [ 85,  64,  69],\n",
       "        [ 89,  68,  73],\n",
       "        [ 91,  70,  75]],\n",
       "\n",
       "       [[193, 202, 197],\n",
       "        [190, 199, 194],\n",
       "        [186, 195, 190],\n",
       "        ...,\n",
       "        [ 85,  64,  69],\n",
       "        [ 81,  62,  66],\n",
       "        [ 79,  60,  66]],\n",
       "\n",
       "       [[196, 205, 200],\n",
       "        [196, 205, 200],\n",
       "        [198, 207, 202],\n",
       "        ...,\n",
       "        [ 93,  72,  77],\n",
       "        [ 82,  63,  67],\n",
       "        [ 80,  61,  67]]], dtype=uint8)"
      ]
     },
     "execution_count": 21,
     "metadata": {},
     "output_type": "execute_result"
    }
   ],
   "source": [
    "image_np"
   ]
  },
  {
   "cell_type": "code",
   "execution_count": 22,
   "metadata": {},
   "outputs": [
    {
     "data": {
      "text/plain": [
       "array([[[200, 205, 196],\n",
       "        [197, 202, 193],\n",
       "        [196, 201, 192],\n",
       "        ...,\n",
       "        [113, 114, 104],\n",
       "        [118, 117, 107],\n",
       "        [113, 113, 101]],\n",
       "\n",
       "       [[200, 205, 196],\n",
       "        [194, 199, 190],\n",
       "        [194, 199, 190],\n",
       "        ...,\n",
       "        [114, 115, 105],\n",
       "        [122, 121, 111],\n",
       "        [118, 118, 106]],\n",
       "\n",
       "       [[202, 207, 198],\n",
       "        [190, 195, 186],\n",
       "        [194, 199, 190],\n",
       "        ...,\n",
       "        [112, 111, 101],\n",
       "        [118, 118, 106],\n",
       "        [106, 106,  92]],\n",
       "\n",
       "       ...,\n",
       "\n",
       "       [[ 77,  72,  93],\n",
       "        [ 69,  64,  85],\n",
       "        [ 69,  64,  85],\n",
       "        ...,\n",
       "        [ 75,  72,  88],\n",
       "        [ 74,  71,  87],\n",
       "        [ 70,  67,  83]],\n",
       "\n",
       "       [[ 69,  63,  82],\n",
       "        [ 66,  62,  81],\n",
       "        [ 73,  68,  89],\n",
       "        ...,\n",
       "        [ 68,  65,  81],\n",
       "        [ 63,  60,  76],\n",
       "        [ 61,  58,  74]],\n",
       "\n",
       "       [[ 67,  61,  80],\n",
       "        [ 64,  60,  79],\n",
       "        [ 75,  70,  91],\n",
       "        ...,\n",
       "        [ 69,  66,  82],\n",
       "        [ 76,  73,  89],\n",
       "        [ 91,  88, 104]]], dtype=uint8)"
      ]
     },
     "execution_count": 22,
     "metadata": {},
     "output_type": "execute_result"
    }
   ],
   "source": [
    "img_cv"
   ]
  },
  {
   "cell_type": "code",
   "execution_count": null,
   "metadata": {},
   "outputs": [],
   "source": []
  }
 ],
 "metadata": {
  "kernelspec": {
   "display_name": "Python 3",
   "language": "python",
   "name": "python3"
  },
  "language_info": {
   "codemirror_mode": {
    "name": "ipython",
    "version": 3
   },
   "file_extension": ".py",
   "mimetype": "text/x-python",
   "name": "python",
   "nbconvert_exporter": "python",
   "pygments_lexer": "ipython3",
   "version": "3.7.6"
  }
 },
 "nbformat": 4,
 "nbformat_minor": 4
}
